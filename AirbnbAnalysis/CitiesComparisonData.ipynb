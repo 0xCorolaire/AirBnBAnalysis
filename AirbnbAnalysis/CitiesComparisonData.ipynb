{
 "cells": [
  {
   "cell_type": "code",
   "execution_count": 1,
   "metadata": {},
   "outputs": [],
   "source": [
    "import sys\n",
    "import os"
   ]
  },
  {
   "cell_type": "code",
   "execution_count": 2,
   "metadata": {},
   "outputs": [],
   "source": [
    "import numpy as np\n",
    "import pandas as pd\n",
    "import matplotlib.pyplot as plt\n",
    "from scipy.stats import ttest_ind"
   ]
  },
  {
   "cell_type": "code",
   "execution_count": 3,
   "metadata": {},
   "outputs": [],
   "source": [
    "%matplotlib inline"
   ]
  },
  {
   "cell_type": "markdown",
   "metadata": {},
   "source": [
    "## Loading Files\n",
    "\n",
    " - Set up the environment variable\n",
    " - Load csv of each city"
   ]
  },
  {
   "cell_type": "code",
   "execution_count": 5,
   "metadata": {},
   "outputs": [],
   "source": [
    "DIR_PATH =  os.getcwd()\n",
    "DATA_PATH = os.path.join(DIR_PATH + os.sep, \"data\")\n",
    "FRANCE_PATH = os.path.join(DATA_PATH + os.sep, \"France\")\n",
    "LYON_PATH = os.path.join(FRANCE_PATH + os.sep, \"Lyon\" + os.sep)\n",
    "PARIS_PATH = os.path.join(FRANCE_PATH + os.sep, \"Paris\" + os.sep)\n",
    "BDX_PATH = os.path.join(FRANCE_PATH + os.sep, \"Bordeaux\" + os.sep)"
   ]
  },
  {
   "cell_type": "code",
   "execution_count": 6,
   "metadata": {},
   "outputs": [],
   "source": [
    "bdx_listings = pd.read_csv(BDX_PATH+\"listings.csv\", low_memory=False)\n",
    "lyon_listings = pd.read_csv(LYON_PATH+\"listings.csv\", low_memory=False)\n",
    "paris_listings = pd.read_csv(PARIS_PATH+\"listings.csv\", low_memory=False)\n",
    "#------------------\n",
    "bdx_reviews = pd.read_csv(BDX_PATH+\"reviews.csv\", low_memory=False)\n",
    "lyon_reviews = pd.read_csv(LYON_PATH+\"reviews.csv\", low_memory=False)\n",
    "paris_reviews = pd.read_csv(PARIS_PATH+\"reviewsp.csv\", low_memory=False)"
   ]
  },
  {
   "cell_type": "code",
   "execution_count": null,
   "metadata": {},
   "outputs": [],
   "source": []
  }
 ],
 "metadata": {
  "kernelspec": {
   "display_name": "Python 3",
   "language": "python",
   "name": "python3"
  },
  "language_info": {
   "codemirror_mode": {
    "name": "ipython",
    "version": 3
   },
   "file_extension": ".py",
   "mimetype": "text/x-python",
   "name": "python",
   "nbconvert_exporter": "python",
   "pygments_lexer": "ipython3",
   "version": "3.6.7"
  }
 },
 "nbformat": 4,
 "nbformat_minor": 2
}

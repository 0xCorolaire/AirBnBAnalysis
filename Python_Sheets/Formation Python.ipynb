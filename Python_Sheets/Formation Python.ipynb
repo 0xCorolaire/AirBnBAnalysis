{
 "cells": [
  {
   "cell_type": "markdown",
   "metadata": {
    "slideshow": {
     "slide_type": "slide"
    }
   },
   "source": [
    " <center>\n",
    "<h2>Formation Python - UTC</h2>\n",
    "    <h5>Jeremy Laforet - IR CNRS</h5><h5><a href=\"mailto:jlaforet@utc.fr\">jeremy.laforet@utc.fr</a> </h5><br>\n",
    "    <h5>BMBI équipe C2MUST - D216 - Poste: 4372</h5>\n",
    "\n",
    "</center>"
   ]
  },
  {
   "cell_type": "markdown",
   "metadata": {
    "slideshow": {
     "slide_type": "subslide"
    }
   },
   "source": [
    "<center>\n",
    "<h3 id=\"Mon-Profil\">Mon Profil</h3>\n",
    "\t\t\t\t\t<ul>\n",
    "\t\t\t\t\t<li>Master <span style=\"color:green\">Automatique</span>  - Université Montpellier 2 (2006)</li>\n",
    "\t\t\t\t\t<li>Thèse en <span style=\"color:green\">Robotique</span>  sur la modélisation des <span style=\"color:green\">muscles lisses</span>  - LIRMM, Montpellier (2009)</li>\n",
    "\t\t\t\t\t<li>PostDoc: <span style=\"color:green\">Modélisation EMG</span>  utérin et strié - BMBI (2010)</li>\n",
    "\t\t\t\t\t<li class=\"fragment\"><span style=\"color:green\">Ingénieur de Recherche</span> CNRS - BMBI (depuis 2013)<ul>\n",
    "\t\t\t\t\t<li>Modélisation multiphysique des muscles</li>\n",
    "\t\t\t\t\t<li>Implémentation logicielle des modèles</li>\n",
    "\t\t\t\t\t<li>Analyses de sensibilité</li>\n",
    "\t\t\t\t\t</ul>\n",
    "\t\t\t\t\t</li>\n",
    "\t\t\t\t\t</ul>\n",
    "\t\t\t\t\t<p class=\"fragment\">Développements en Python depuis <span style=\"color:green\">~2007</span></p>\n",
    "                    <center>\n"
   ]
  },
  {
   "cell_type": "markdown",
   "metadata": {
    "slideshow": {
     "slide_type": "subslide"
    }
   },
   "source": [
    "<h3>Pourquoi Python?</h3>\n",
    "\t\t\t\t\t<ul>\n",
    "\t\t\t\t\t\t<li class=\"fragment\" data-fragment-index=\"1\">Langage de haut niveau</li>\n",
    "\t\t\t\t\t\t<li class=\"fragment\" data-fragment-index=\"1\">Ipython (jupyter) Notebook</li>\n",
    "\t\t\t\t\t\t<li class=\"fragment\" data-fragment-index=\"1\">Transition directe vers un code stable</li>\n",
    "\t\t\t\t\t\t<li class=\"fragment\" data-fragment-index=\"2\">Script exécutables / multiplateforme</li>\n",
    "\t\t\t\t\t\t<li class=\"fragment\" data-fragment-index=\"2\">De nombreux formats de ficihers lisibles</li>\n",
    "\t\t\t\t\t\t<li class=\"fragment\" data-fragment-index=\"2\">Possible interface graphique</li>\n",
    "\t\t\t\t\t\t<li class=\"fragment\" data-fragment-index=\"3\">Ratio temps de programmeur/résultat !</li>\n",
    "\t\t\t\t\t\t<li class=\"fragment\" data-fragment-index=\"3\">Écosysteme scientifique riche</li>\n",
    "\t\t\t\t\t\t<li class=\"fragment\" data-fragment-index=\"3\">Outils de débug/profiling</li>\n",
    "\t\t\t\t\t\t<li class=\"fragment\" data-fragment-index=\"4\">Utilisable du micro-contrôleur au supercalculateur!</li>\n",
    "\t\t\t\t\t</ul>\n",
    "\t\t\t\t\t<p>\n",
    "\t\t\t\t\t\t<span class=\"fragment highlight-current-blue\" data-fragment-index=\"1\">Prototype</span> -\n",
    "\t\t\t\t\t\t<span class=\"fragment highlight-current-blue\" data-fragment-index=\"2\">Code Glue</span> -\n",
    "\t\t\t\t\t\t<span class=\"fragment highlight-current-blue\" data-fragment-index=\"3\">Développement complet</span>\n",
    "\t\t\t\t\t</p>"
   ]
  },
  {
   "cell_type": "markdown",
   "metadata": {
    "slideshow": {
     "slide_type": "subslide"
    }
   },
   "source": [
    "## Description de la formation\n",
    "\n",
    "Il s'agit d'une introduction au langage et à ses posibilités.\n",
    "\n",
    "* **Matin**: Bases du langage\n",
    "* **Après-midi**: Découvertes de bibliothèques pour les sciences\n",
    "\n",
    "**Non-traité**: \n",
    "- Les bases de données: SQLite (dans la lib. standard), etc…\n",
    "- le Web: [Django](https://www.djangoproject.com/), [Flask](http://flask.pocoo.org/), [Pyramid](https://trypyramid.com/)\n",
    "- le calcul haute-performance: [Numba](https://numba.pydata.org/), [PyOpenCL](https://mathema.tician.de/software/pyopencl)/[PyCuda](https://mathema.tician.de/software/pycuda), [Pythran](http://pythran.readthedocs.io/en/latest/)"
   ]
  },
  {
   "cell_type": "markdown",
   "metadata": {
    "slideshow": {
     "slide_type": "slide"
    }
   },
   "source": [
    "<center>\n",
    "<h3>Plan de la matinée:</h3>\n",
    "<ul>\n",
    "    <li>Présentation et installations</li>\n",
    "    <li>Bases du langage<ul>\n",
    "    <li>Structures de données</li>\n",
    "    <li>Structures de contrôle</li>\n",
    "    <li>Pythonismes</li>\n",
    "    <li>Entrées - Sorties</li>\n",
    "    <li>Fonctions</li>\n",
    "    <li>Classes et objets</li>\n",
    "    <li>Interactions graphiques</li>\n",
    "    <li>Profiling</li>\n",
    "</ul>\n",
    "</center>             "
   ]
  },
  {
   "cell_type": "markdown",
   "metadata": {
    "collapsed": true,
    "slideshow": {
     "slide_type": "subslide"
    }
   },
   "source": [
    "# Installation et Présentation"
   ]
  },
  {
   "cell_type": "markdown",
   "metadata": {
    "slideshow": {
     "slide_type": "subslide"
    }
   },
   "source": [
    "<h3>Anaconda ou mini-conda</h3>\n",
    "\t\t\t\t\t<ul>\n",
    "\t\t\t\t\t\t<li>Distribution de Python</li>\n",
    "\t\t\t\t\t\t<li>~300 Paquets</li>\n",
    "\t\t\t\t\t\t<li>Orienté sciences</li>\n",
    "\t\t\t\t\t\t<li>Mini-conda: installeur seul</li>\n",
    "\t\t\t\t\t</ul>"
   ]
  },
  {
   "cell_type": "markdown",
   "metadata": {
    "slideshow": {
     "slide_type": "subslide"
    }
   },
   "source": [
    "<h3>PyCharm(-edu)</h3>\n",
    "\t\t\t\t\t<ul>\n",
    "\t\t\t\t\t\t<li>IDE pour Python</li>\n",
    "\t\t\t\t\t\t<li>Coloration, complétion, vérification de code</li>\n",
    "\t\t\t\t\t\t<li>Execution, debuggage, profilage</li>\n",
    "\t\t\t\t\t\t<li>PyCharm-edu: version <em>simplifée</em> pour l'enseignement</li>\n",
    "\t\t\t\t\t</ul>"
   ]
  },
  {
   "cell_type": "markdown",
   "metadata": {
    "slideshow": {
     "slide_type": "subslide"
    }
   },
   "source": [
    "## Supports de la formation:\n",
    "\n",
    "https://gitlab.utc.fr/jlaforet/Formation_Python"
   ]
  },
  {
   "cell_type": "markdown",
   "metadata": {
    "slideshow": {
     "slide_type": "fragment"
    }
   },
   "source": [
    "### Éxecution\n",
    "- Interactive:\n",
    "    - python shell\n",
    "    - Ipython\n",
    "    - Jupyter Notebook"
   ]
  },
  {
   "cell_type": "markdown",
   "metadata": {
    "slideshow": {
     "slide_type": "fragment"
    }
   },
   "source": [
    "- Batch:\n",
    "    - script\n",
    "    - executables\n"
   ]
  },
  {
   "cell_type": "markdown",
   "metadata": {
    "slideshow": {
     "slide_type": "subslide"
    }
   },
   "source": [
    "<h3>Structure</h3>\n",
    "            <ul>\n",
    "                <li>script</li>\n",
    "                <li>fonction</li>\n",
    "                <li>module</li>\n",
    "                <li>package</li>\n",
    "            </ul>"
   ]
  },
  {
   "cell_type": "markdown",
   "metadata": {
    "slideshow": {
     "slide_type": "subslide"
    }
   },
   "source": [
    "<h3>Imports</h3>\n",
    "\t\t\t\t\t<p>\n",
    "\t\t\t\t\t\tUtilisation de modules (ou de fonctions des modules)\n",
    "\t\t\t\t\t</p>\t\t\t\t"
   ]
  },
  {
   "cell_type": "code",
   "execution_count": 3,
   "metadata": {
    "init_cell": true
   },
   "outputs": [],
   "source": [
    "import sys"
   ]
  },
  {
   "cell_type": "code",
   "execution_count": 4,
   "metadata": {
    "init_cell": true
   },
   "outputs": [
    {
     "data": {
      "text/plain": [
       "array([1.])"
      ]
     },
     "execution_count": 4,
     "metadata": {},
     "output_type": "execute_result"
    }
   ],
   "source": [
    "import numpy as np\n",
    "np.ones(1) # numpy.ones()"
   ]
  },
  {
   "cell_type": "code",
   "execution_count": 3,
   "metadata": {
    "collapsed": true,
    "init_cell": true
   },
   "outputs": [],
   "source": [
    "from os import rename"
   ]
  },
  {
   "cell_type": "code",
   "execution_count": 8,
   "metadata": {
    "collapsed": true
   },
   "outputs": [],
   "source": [
    "#conda install module # pip install module"
   ]
  },
  {
   "cell_type": "markdown",
   "metadata": {},
   "source": [
    "<ul>\n",
    "\t<li class=\"fragment\" data-fragment-index=\"1\">Un module entier</li>\n",
    "\t<li class=\"fragment\" data-fragment-index=\"2\">Un module entier avec un nom personalisé</li>\n",
    "\t<li class=\"fragment\" data-fragment-index=\"3\">une fonction d'un module</li>\n",
    "</ul>"
   ]
  },
  {
   "cell_type": "markdown",
   "metadata": {
    "slideshow": {
     "slide_type": "subslide"
    }
   },
   "source": [
    "<h3>Python 2.7.x vs Python 3.y</h3>\n",
    "\t\t\t\t\t<ul>\n",
    "\t\t\t\t\t\t<li>Meilleur support unicode</li>\n",
    "\t\t\t\t\t\t<li>Changement de la syntaxe de certains <em>import</em></li>\n",
    "\t\t\t\t\t\t<li>La division entière devient <em>//</em> </li>\n",
    "\t\t\t\t\t\t<li><em>print</em> devient une fonction</li>\n",
    "\t\t\t\t\t\t<li>Tous les paquets ne sont pas encore en 3.y</li>\n",
    "\t\t\t\t\t</ul>\n",
    "\t\t\t\t\t<p class=\"fragment\">\n",
    "\t\t\t\t\t\tle module <em>__future__</em> permet d'écrire du code python 2.7 compatible avec python 3"
   ]
  },
  {
   "cell_type": "code",
   "execution_count": 7,
   "metadata": {
    "collapsed": true
   },
   "outputs": [],
   "source": [
    "from __future__ import absolute_import, division, print_function, unicode_literals"
   ]
  },
  {
   "cell_type": "markdown",
   "metadata": {
    "slideshow": {
     "slide_type": "slide"
    }
   },
   "source": [
    "# Bases du langage"
   ]
  },
  {
   "cell_type": "markdown",
   "metadata": {
    "slideshow": {
     "slide_type": "subslide"
    }
   },
   "source": [
    "<h3>pep8</h3>\n",
    "\t\t\t\t\t<ul>\n",
    "<li><p class=\"first\">Use 4-space indentation, and no tabs.</p>\n",
    "<!-- <p class=\"fragment current-visible\">4 spaces are a good compromise between small indentation (allows greater\n",
    "nesting depth) and large indentation (easier to read).  Tabs introduce\n",
    "confusion, and are best left out.</p> -->\n",
    "</li>\n",
    "<li><p class=\"first\">Wrap lines so that they don&#8217;t exceed 79 characters.</p>\n",
    "<!-- <p >This helps users with small displays and makes it possible to have several -->\n",
    "<!-- code files side-by-side on larger displays.</p> -->\n",
    "</li>\n",
    "<li><p class=\"first\">Use blank lines to separate functions and classes, and larger blocks of\n",
    "code inside functions.</p>\n",
    "</li>\n",
    "<li><p class=\"first\">When possible, put comments on a line of their own.</p>\n",
    "</li>\n",
    "<li><p class=\"first\">Use docstrings.</p>\n",
    "</li>\n",
    "</ul>"
   ]
  },
  {
   "cell_type": "markdown",
   "metadata": {
    "slideshow": {
     "slide_type": "subslide"
    }
   },
   "source": [
    "\n",
    "<h3>pep8</h3>\n",
    "<ul>\n",
    "<li><p class=\"first\">Use spaces around operators and after commas, but not directly inside\n",
    "bracketing constructs:<br>\n",
    "<code class=\"docutils literal\"><span class=\"pre\">a</span> <span class=\"pre\">=</span> <span class=\"pre\">f(1,</span> <span class=\"pre\">2)</span> <span class=\"pre\">+</span> <span class=\"pre\">g(3,</span> <span class=\"pre\">4)</span></code>.</p>\n",
    "</li>\n",
    "<li><p class=\"first\">Name your classes and functions consistently; the convention is to use\n",
    "<code class=\"docutils literal\"><span style=\"color:lightgreen\" class=\"pre\">CamelCase</span></code> for classes and <code class=\"docutils literal\"><span style=\"color:lightgreen\" class=\"pre\">lower_case_with_underscores</span></code> for functions\n",
    "<!-- and methods.  Always use <code class=\"docutils literal\"><span class=\"pre\">self</span></code> as the name for the first method argument\n",
    "(see <a class=\"reference internal\" href=\"classes.html#tut-firstclasses\"><span>A First Look at Classes</span></a> for more on classes and methods).</p> -->\n",
    "</li>\n",
    "<li><p class=\"first\">Don&#8217;t use fancy encodings if your code is meant to be used in international\n",
    "environments.  Plain ASCII works best in any case.</p>\n",
    "</li>\n",
    "</ul>"
   ]
  },
  {
   "cell_type": "markdown",
   "metadata": {
    "slideshow": {
     "slide_type": "slide"
    }
   },
   "source": [
    "# Structures de données"
   ]
  },
  {
   "cell_type": "markdown",
   "metadata": {
    "slideshow": {
     "slide_type": "subslide"
    }
   },
   "source": [
    "\n",
    "<h3>Structures de données</h3>\n",
    "\t\t\t\t\t<ul>\n",
    "\t\t\t\t\t\t<li>variable</li>\n",
    "\t\t\t\t\t\t<li>liste</li>\n",
    "\t\t\t\t\t\t<li>tuple</li>\n",
    "\t\t\t\t\t\t<li>set</li>\n",
    "\t\t\t\t\t\t<li>dictionnaire</li>\n",
    "\t\t\t\t\t</ul>"
   ]
  },
  {
   "cell_type": "markdown",
   "metadata": {
    "slideshow": {
     "slide_type": "subslide"
    }
   },
   "source": [
    "## Variable"
   ]
  },
  {
   "cell_type": "code",
   "execution_count": 14,
   "metadata": {},
   "outputs": [
    {
     "name": "stdout",
     "output_type": "stream",
     "text": [
      "a=2, b=test, c=3.14\n"
     ]
    }
   ],
   "source": [
    "a = 2\n",
    "b = 'test'\n",
    "c = 3.14\n",
    "print(\"a={}, b={}, c={}\".format(a,b,c))"
   ]
  },
  {
   "cell_type": "markdown",
   "metadata": {},
   "source": [
    "<ul>\n",
    "\t\t\t\t\t\t<li>typage dynamique</li>\n",
    "\t\t\t\t\t\t<li><em>type(var)</em> pour connaitre le type actuel de <em>var</em></li>\n",
    "\t\t\t\t\t</ul>"
   ]
  },
  {
   "cell_type": "code",
   "execution_count": 15,
   "metadata": {
    "slideshow": {
     "slide_type": "-"
    }
   },
   "outputs": [
    {
     "name": "stdout",
     "output_type": "stream",
     "text": [
      "a=<class 'int'>, b=<class 'str'>, c=<class 'float'>\n"
     ]
    }
   ],
   "source": [
    "print(\"a={}, b={}, c={}\".format(type(a),type(b),type(c)))"
   ]
  },
  {
   "cell_type": "markdown",
   "metadata": {
    "slideshow": {
     "slide_type": "subslide"
    }
   },
   "source": [
    "## List"
   ]
  },
  {
   "cell_type": "code",
   "execution_count": 25,
   "metadata": {},
   "outputs": [
    {
     "name": "stdout",
     "output_type": "stream",
     "text": [
      "['a', 3, 1, 2]\n",
      "a\n",
      "2\n",
      "['a', 3.14, 1, 2]\n"
     ]
    }
   ],
   "source": [
    "l = ['a', 3, 1, 2] \n",
    "print(l)\n",
    "print(l[0])\n",
    "print(l[-1])\n",
    "l[1]=3.14\n",
    "print(l)"
   ]
  },
  {
   "cell_type": "markdown",
   "metadata": {},
   "source": [
    "<ul>\n",
    "\t\t\t\t\t\t<li>types quelconques (mélanges possibles)</li>\n",
    "\t\t\t\t\t\t<li>conversation de l'ordre</li>\n",
    "\t\t\t\t\t\t<li>indexable</li>\n",
    "\t\t\t\t\t\t<li>mutable</li>\n",
    "\t\t\t\t\t\t<li>les chaines de charactères sont des listes</li>\n",
    "\t\t\t\t\t</ul>"
   ]
  },
  {
   "cell_type": "markdown",
   "metadata": {
    "slideshow": {
     "slide_type": "subslide"
    }
   },
   "source": [
    "## Tuple"
   ]
  },
  {
   "cell_type": "code",
   "execution_count": 1,
   "metadata": {},
   "outputs": [
    {
     "name": "stdout",
     "output_type": "stream",
     "text": [
      "('a', 3, 1, 2)\n",
      "a\n",
      "2\n"
     ]
    }
   ],
   "source": [
    "t = ('a', 3, 1, 2)\n",
    "print(t)\n",
    "print(t[0])\n",
    "print(t[-1])\n",
    "#t[1]=3.14"
   ]
  },
  {
   "cell_type": "markdown",
   "metadata": {},
   "source": [
    "<ul>\n",
    "\t\t\t\t\t\t<li>types quelconques (mélanges possibles)</li>\n",
    "\t\t\t\t\t\t<li>conversation de l'ordre</li>\n",
    "\t\t\t\t\t\t<li>indexable</li>\n",
    "\t\t\t\t\t\t<li>immutable</li>\n",
    "\t\t\t\t\t</ul>"
   ]
  },
  {
   "cell_type": "markdown",
   "metadata": {
    "slideshow": {
     "slide_type": "subslide"
    }
   },
   "source": [
    "## Set"
   ]
  },
  {
   "cell_type": "code",
   "execution_count": 17,
   "metadata": {},
   "outputs": [
    {
     "name": "stdout",
     "output_type": "stream",
     "text": [
      "{1, 2, 3, 'a'}\n"
     ]
    }
   ],
   "source": [
    "s = {'a', 3,3,2,1,1, 1, 2}\n",
    "print(s)\n",
    "#print(s[0])\n"
   ]
  },
  {
   "cell_type": "markdown",
   "metadata": {},
   "source": [
    "<ul>\n",
    "\t\t\t\t\t\t<li>types quelconques (mélanges possibles)</li>\n",
    "\t\t\t\t\t\t<li>elements uniques et triés</li>\n",
    "\t\t\t\t\t\t<li>immutable</li>\n",
    "\t\t\t\t\t</ul>"
   ]
  },
  {
   "cell_type": "markdown",
   "metadata": {
    "slideshow": {
     "slide_type": "subslide"
    }
   },
   "source": [
    "## Dict"
   ]
  },
  {
   "cell_type": "code",
   "execution_count": 5,
   "metadata": {},
   "outputs": [
    {
     "name": "stdout",
     "output_type": "stream",
     "text": [
      "{'a': 1, 2: 3.14}\n",
      "1\n"
     ]
    }
   ],
   "source": [
    "d = {'a':1, 2:3.14}\n",
    "print(d)\n",
    "print(d['a'])\n"
   ]
  },
  {
   "cell_type": "markdown",
   "metadata": {},
   "source": [
    "<ul>\n",
    "\t\t\t\t\t\t<li>types quelconques (mélanges possibles)</li>\n",
    "\t\t\t\t\t\t<li>Ensemble de paires <span style=\"color:lightgreen\">clé:valeur</span></li>\n",
    "\t\t\t\t\t\t<li>trié par clés</li>\n",
    "\t\t\t\t\t\t<li>mutable</li>\n",
    "\t\t\t\t\t</ul>"
   ]
  },
  {
   "cell_type": "markdown",
   "metadata": {
    "slideshow": {
     "slide_type": "slide"
    }
   },
   "source": [
    "# Structures de contrôle"
   ]
  },
  {
   "cell_type": "markdown",
   "metadata": {
    "slideshow": {
     "slide_type": "subslide"
    }
   },
   "source": [
    "<ul>\n",
    "\t\t\t\t\t\t<li>if / else</li>\n",
    "\t\t\t\t\t\t<li>while</li>\n",
    "\t\t\t\t\t\t<li>for</li>\n",
    "\t\t\t\t\t\t<li>iterate</li>\n",
    "\t\t\t\t\t</ul>"
   ]
  },
  {
   "cell_type": "markdown",
   "metadata": {
    "slideshow": {
     "slide_type": "subslide"
    }
   },
   "source": [
    "<h3>tests</h3>\n",
    "\t\t\t\t\t<p>\n",
    "\t\t\t\t\t\tif… elif… else…\n",
    "\t\t\t\t\t</p>"
   ]
  },
  {
   "cell_type": "code",
   "execution_count": 10,
   "metadata": {},
   "outputs": [],
   "source": [
    "at = -1.5"
   ]
  },
  {
   "cell_type": "code",
   "execution_count": 11,
   "metadata": {},
   "outputs": [
    {
     "name": "stdout",
     "output_type": "stream",
     "text": [
      "ko\n"
     ]
    }
   ],
   "source": [
    "if at > 1:\n",
    "    print('ok')\n",
    "    print(at)\n",
    "elif at < -1:\n",
    "    print('ko')\n",
    "else:\n",
    "    pass"
   ]
  },
  {
   "cell_type": "markdown",
   "metadata": {
    "slideshow": {
     "slide_type": "subslide"
    }
   },
   "source": [
    "<h3>Boucles</h3>\n",
    "\t\t\t\t\t<p>\n",
    "\t\t\t\t\t\twhile\n",
    "\t\t\t\t\t</p>"
   ]
  },
  {
   "cell_type": "code",
   "execution_count": 12,
   "metadata": {},
   "outputs": [
    {
     "name": "stdout",
     "output_type": "stream",
     "text": [
      "0\n",
      "2\n",
      "4\n"
     ]
    }
   ],
   "source": [
    "a = 0\n",
    "while a <= 4: #while True: break\n",
    "    print(a)\n",
    "    a += 2"
   ]
  },
  {
   "cell_type": "markdown",
   "metadata": {
    "slideshow": {
     "slide_type": "subslide"
    }
   },
   "source": [
    "<h3>Boucles</h3>\n",
    "\t\t\t\t\t<p>\n",
    "\t\t\t\t\t\tfor\n",
    "\t\t\t\t\t</p>"
   ]
  },
  {
   "cell_type": "code",
   "execution_count": 34,
   "metadata": {},
   "outputs": [
    {
     "name": "stdout",
     "output_type": "stream",
     "text": [
      "a\n",
      "3.14\n",
      "1\n",
      "2\n"
     ]
    }
   ],
   "source": [
    "for k in l:\n",
    "    print(k)"
   ]
  },
  {
   "cell_type": "code",
   "execution_count": 27,
   "metadata": {
    "slideshow": {
     "slide_type": "fragment"
    }
   },
   "outputs": [
    {
     "name": "stdout",
     "output_type": "stream",
     "text": [
      "1\n",
      "4\n",
      "7\n"
     ]
    }
   ],
   "source": [
    "for j in range(1,10,3):\n",
    "    print(j)"
   ]
  },
  {
   "cell_type": "code",
   "execution_count": null,
   "metadata": {
    "collapsed": true
   },
   "outputs": [],
   "source": []
  },
  {
   "cell_type": "markdown",
   "metadata": {
    "slideshow": {
     "slide_type": "subslide"
    }
   },
   "source": [
    "<h3>Boucles</h3>\n",
    "\t\t\t\t\t<p>\n",
    "\t\t\t\t\t\tenumerate(…)\n",
    "\t\t\t\t\t</p>"
   ]
  },
  {
   "cell_type": "code",
   "execution_count": 36,
   "metadata": {},
   "outputs": [
    {
     "name": "stdout",
     "output_type": "stream",
     "text": [
      "2 a\n"
     ]
    }
   ],
   "source": [
    "for idx, lettre in enumerate('chaine'):\n",
    "    if lettre == 'a':\n",
    "        print(idx, lettre)"
   ]
  },
  {
   "cell_type": "markdown",
   "metadata": {
    "slideshow": {
     "slide_type": "slide"
    }
   },
   "source": [
    "## Pythonismes\n"
   ]
  },
  {
   "cell_type": "markdown",
   "metadata": {
    "slideshow": {
     "slide_type": "subslide"
    }
   },
   "source": [
    "### is\n",
    "\n",
    "Égalité et identité"
   ]
  },
  {
   "cell_type": "code",
   "execution_count": 15,
   "metadata": {},
   "outputs": [],
   "source": [
    "#a=b=1\n",
    "a=1;b=1."
   ]
  },
  {
   "cell_type": "code",
   "execution_count": 16,
   "metadata": {},
   "outputs": [
    {
     "name": "stdout",
     "output_type": "stream",
     "text": [
      "a et b on la même valeur.\n"
     ]
    }
   ],
   "source": [
    "if a is b:\n",
    "\tprint(\"a et b sont le même objet.\")\n",
    "if a == b:\n",
    "    print(\"a et b on la même valeur.\")"
   ]
  },
  {
   "cell_type": "markdown",
   "metadata": {
    "slideshow": {
     "slide_type": "subslide"
    }
   },
   "source": [
    "### with\n",
    "Gestionnaire de contexte"
   ]
  },
  {
   "cell_type": "markdown",
   "metadata": {
    "slideshow": {
     "slide_type": "fragment"
    }
   },
   "source": [
    "** On y revient dans quelques slides avec les entrées-sorties** "
   ]
  },
  {
   "cell_type": "markdown",
   "metadata": {
    "slideshow": {
     "slide_type": "subslide"
    }
   },
   "source": [
    "### Comprehensions\n"
   ]
  },
  {
   "cell_type": "markdown",
   "metadata": {
    "slideshow": {
     "slide_type": "fragment"
    }
   },
   "source": [
    "#### List comprehension:"
   ]
  },
  {
   "cell_type": "code",
   "execution_count": 24,
   "metadata": {},
   "outputs": [
    {
     "name": "stdout",
     "output_type": "stream",
     "text": [
      "[0, 1, 4, 9, 16, 25, 36, 49, 64, 81]\n"
     ]
    }
   ],
   "source": [
    "squares = [nb**2 for nb in range(0,10)]\n",
    "print(squares)"
   ]
  },
  {
   "cell_type": "markdown",
   "metadata": {
    "slideshow": {
     "slide_type": "fragment"
    }
   },
   "source": [
    "#### Dictionnary comprehensions:"
   ]
  },
  {
   "cell_type": "code",
   "execution_count": 49,
   "metadata": {},
   "outputs": [
    {
     "name": "stdout",
     "output_type": "stream",
     "text": [
      "{1: 1, 3: 9, 5: 25, 7: 49, 9: 81}\n"
     ]
    }
   ],
   "source": [
    "odd_squares = {nb:nb**2 for nb in range(0,10) if nb**2%2}\n",
    "print(odd_squares)"
   ]
  },
  {
   "cell_type": "markdown",
   "metadata": {
    "slideshow": {
     "slide_type": "subslide"
    }
   },
   "source": [
    "<h3>Exceptions</h3>\n",
    "<q>It's easier to ask forgiveness than it is to get permission.</q> -- <strong>Grace Hopper</strong>\n",
    "<ul>\n",
    "    <li>raise</li>\n",
    "    <li>try / except</li>\n",
    "</ul>"
   ]
  },
  {
   "cell_type": "markdown",
   "metadata": {
    "slideshow": {
     "slide_type": "subslide"
    }
   },
   "source": [
    "<h3>Raise</h3>"
   ]
  },
  {
   "cell_type": "code",
   "execution_count": 51,
   "metadata": {},
   "outputs": [
    {
     "ename": "ValueError",
     "evalue": "Le dénominateur ne peut être nul.",
     "output_type": "error",
     "traceback": [
      "\u001b[0;31m---------------------------------------------------------------------------\u001b[0m",
      "\u001b[0;31mValueError\u001b[0m                                Traceback (most recent call last)",
      "\u001b[0;32m<ipython-input-51-5df895ea2bd4>\u001b[0m in \u001b[0;36m<module>\u001b[0;34m()\u001b[0m\n\u001b[1;32m      1\u001b[0m \u001b[0mdenominateur\u001b[0m \u001b[0;34m=\u001b[0m \u001b[0;36m0\u001b[0m\u001b[0;34m\u001b[0m\u001b[0m\n\u001b[1;32m      2\u001b[0m \u001b[0;32mif\u001b[0m \u001b[0mdenominateur\u001b[0m \u001b[0;34m==\u001b[0m \u001b[0;36m0\u001b[0m\u001b[0;34m:\u001b[0m\u001b[0;34m\u001b[0m\u001b[0m\n\u001b[0;32m----> 3\u001b[0;31m     \u001b[0;32mraise\u001b[0m \u001b[0mValueError\u001b[0m\u001b[0;34m(\u001b[0m\u001b[0;34m\"Le dénominateur ne peut être nul.\"\u001b[0m\u001b[0;34m)\u001b[0m\u001b[0;34m\u001b[0m\u001b[0m\n\u001b[0m",
      "\u001b[0;31mValueError\u001b[0m: Le dénominateur ne peut être nul."
     ]
    }
   ],
   "source": [
    "denominateur = 0\n",
    "if denominateur == 0:\n",
    "    raise ValueError(\"Le dénominateur ne peut être nul.\")"
   ]
  },
  {
   "cell_type": "markdown",
   "metadata": {
    "slideshow": {
     "slide_type": "subslide"
    }
   },
   "source": [
    "<h3>try… except…</h3>"
   ]
  },
  {
   "cell_type": "code",
   "execution_count": 20,
   "metadata": {},
   "outputs": [
    {
     "name": "stdout",
     "output_type": "stream",
     "text": [
      "Le dénominateur est nul.\n",
      "Calcul terminé.\n"
     ]
    },
    {
     "ename": "ZeroDivisionError",
     "evalue": "float division by zero",
     "output_type": "error",
     "traceback": [
      "\u001b[0;31m---------------------------------------------------------------------------\u001b[0m",
      "\u001b[0;31mZeroDivisionError\u001b[0m                         Traceback (most recent call last)",
      "\u001b[0;32m<ipython-input-20-53466195ad7b>\u001b[0m in \u001b[0;36m<module>\u001b[0;34m()\u001b[0m\n\u001b[1;32m      5\u001b[0m \u001b[0;32mexcept\u001b[0m \u001b[0mZeroDivisionError\u001b[0m \u001b[0;32mas\u001b[0m \u001b[0mz\u001b[0m\u001b[0;34m:\u001b[0m\u001b[0;34m\u001b[0m\u001b[0m\n\u001b[1;32m      6\u001b[0m     \u001b[0mprint\u001b[0m\u001b[0;34m(\u001b[0m\u001b[0;34m\"Le dénominateur est nul.\"\u001b[0m\u001b[0;34m)\u001b[0m\u001b[0;34m\u001b[0m\u001b[0m\n\u001b[0;32m----> 7\u001b[0;31m     \u001b[0;32mraise\u001b[0m \u001b[0mz\u001b[0m\u001b[0;34m\u001b[0m\u001b[0m\n\u001b[0m\u001b[1;32m      8\u001b[0m \u001b[0;32melse\u001b[0m\u001b[0;34m:\u001b[0m\u001b[0;34m\u001b[0m\u001b[0m\n\u001b[1;32m      9\u001b[0m     \u001b[0mprint\u001b[0m\u001b[0;34m(\u001b[0m\u001b[0;34m\"La division vaut\"\u001b[0m\u001b[0;34m,\u001b[0m \u001b[0mresultat\u001b[0m\u001b[0;34m)\u001b[0m\u001b[0;34m\u001b[0m\u001b[0m\n",
      "\u001b[0;32m<ipython-input-20-53466195ad7b>\u001b[0m in \u001b[0;36m<module>\u001b[0;34m()\u001b[0m\n\u001b[1;32m      2\u001b[0m \u001b[0mdenominateur\u001b[0m \u001b[0;34m=\u001b[0m \u001b[0;36m0\u001b[0m\u001b[0;34m\u001b[0m\u001b[0m\n\u001b[1;32m      3\u001b[0m \u001b[0;32mtry\u001b[0m\u001b[0;34m:\u001b[0m\u001b[0;34m\u001b[0m\u001b[0m\n\u001b[0;32m----> 4\u001b[0;31m     \u001b[0mresultat\u001b[0m \u001b[0;34m=\u001b[0m \u001b[0mnumerateur\u001b[0m \u001b[0;34m/\u001b[0m \u001b[0mdenominateur\u001b[0m\u001b[0;34m\u001b[0m\u001b[0m\n\u001b[0m\u001b[1;32m      5\u001b[0m \u001b[0;32mexcept\u001b[0m \u001b[0mZeroDivisionError\u001b[0m \u001b[0;32mas\u001b[0m \u001b[0mz\u001b[0m\u001b[0;34m:\u001b[0m\u001b[0;34m\u001b[0m\u001b[0m\n\u001b[1;32m      6\u001b[0m     \u001b[0mprint\u001b[0m\u001b[0;34m(\u001b[0m\u001b[0;34m\"Le dénominateur est nul.\"\u001b[0m\u001b[0;34m)\u001b[0m\u001b[0;34m\u001b[0m\u001b[0m\n",
      "\u001b[0;31mZeroDivisionError\u001b[0m: float division by zero"
     ]
    }
   ],
   "source": [
    "numerateur = 3.14\n",
    "denominateur = 0\n",
    "try:\n",
    "    resultat = numerateur / denominateur\n",
    "except ZeroDivisionError as z:\n",
    "    print(\"Le dénominateur est nul.\")\n",
    "    raise z\n",
    "else:\n",
    "    print(\"La division vaut\", resultat)\n",
    "finally:\n",
    "    print(\"Calcul terminé.\")"
   ]
  },
  {
   "cell_type": "markdown",
   "metadata": {
    "slideshow": {
     "slide_type": "slide"
    }
   },
   "source": [
    "## Entrées / Sorties\n",
    "<ul>\n",
    "    <li>input()</li>\n",
    "    <li>print()</li>\n",
    "    <li>format()</li>\n",
    "    <li>fichiers</li>\n",
    "</ul>"
   ]
  },
  {
   "cell_type": "markdown",
   "metadata": {
    "slideshow": {
     "slide_type": "subslide"
    }
   },
   "source": [
    "<h3>print</h3>\n",
    "<ul>\n",
    "    <li>Affiche la chaine de charactère passée en argument</li>\n",
    "\n",
    "</ul>"
   ]
  },
  {
   "cell_type": "code",
   "execution_count": 52,
   "metadata": {},
   "outputs": [
    {
     "name": "stdout",
     "output_type": "stream",
     "text": [
      "Bonjour!\n"
     ]
    }
   ],
   "source": [
    "print('Bonjour!')"
   ]
  },
  {
   "cell_type": "markdown",
   "metadata": {},
   "source": [
    "<span class=\"fragment\">\t<p style=\"color:orange\">Py2: <em>print</em> n'y est pas une fonction</p>\n",
    "<pre><code class=\"python\">print \"Bonjour!\"</code>\n",
    "Bonjour!\n",
    "</pre>\n",
    "<p style=\"color:Orange\">Utiliser <em>from \\_\\_future\\_\\_ import print_function</em> en python 2.x\n",
    "</p>\n",
    "</span>"
   ]
  },
  {
   "cell_type": "markdown",
   "metadata": {
    "slideshow": {
     "slide_type": "subslide"
    }
   },
   "source": [
    "<h3>input</h3>\n",
    "\t\t\t\t\t\t<ul>\n",
    "\t\t\t\t\t\t\t<li>Permet de poser une question</li>\n",
    "\t\t\t\t\t\t\t<li>Renvoie une chaine de charactères</li>\n",
    "\t\t\t\t\t\t\t<li>Conversion nécessaire ensuite pour les autres types</li>\n",
    "\t\t\t\t\t\t</ul>"
   ]
  },
  {
   "cell_type": "code",
   "execution_count": 21,
   "metadata": {},
   "outputs": [
    {
     "name": "stdout",
     "output_type": "stream",
     "text": [
      "Quel est votre nom?TErry\n",
      "TErry\n"
     ]
    }
   ],
   "source": [
    "nom=input(\"Quel est votre nom?\")\n",
    "print(nom)\n"
   ]
  },
  {
   "cell_type": "markdown",
   "metadata": {},
   "source": [
    "\n",
    "<p style=\"color:orange\">Py2: Équivalent à la fonction <em>raw_input</em>\n",
    "\n",
    "</p>"
   ]
  },
  {
   "cell_type": "markdown",
   "metadata": {
    "slideshow": {
     "slide_type": "subslide"
    }
   },
   "source": [
    "<h3>format</h3>\n",
    "\t\t\t\t\t\t<p>\n",
    "\t\t\t\t\t\t\tMise en forme d'une chaine de charactères\n",
    "\t\t\t\t\t\t</p>\n",
    "                       "
   ]
  },
  {
   "cell_type": "code",
   "execution_count": 28,
   "metadata": {},
   "outputs": [
    {
     "name": "stdout",
     "output_type": "stream",
     "text": [
      "Bonjour TErry !\n",
      "Bonjour Sir TErry !\n",
      "Bonjour Sir TErry ou juste TErry ?\n",
      "Bonjour TErry, la liste est [0, 1, 4, 9, 16, 25, 36, 49, 64, 81]\n"
     ]
    }
   ],
   "source": [
    "print('Bonjour {} !'.format(nom))\n",
    "print('Bonjour {} {} !'.format('Sir',nom))\n",
    "print('Bonjour {ti} {name} ou juste {name} ?'.format(ti=\"Sir\",name=nom))\n",
    "print(f\"Bonjour {nom}, la liste est {squares}\")"
   ]
  },
  {
   "cell_type": "markdown",
   "metadata": {
    "slideshow": {
     "slide_type": "subslide"
    }
   },
   "source": [
    "<h3>fichiers texte</h3>"
   ]
  },
  {
   "cell_type": "markdown",
   "metadata": {
    "slideshow": {
     "slide_type": "fragment"
    }
   },
   "source": [
    "Lecture"
   ]
  },
  {
   "cell_type": "code",
   "execution_count": 61,
   "metadata": {
    "slideshow": {
     "slide_type": "-"
    }
   },
   "outputs": [
    {
     "name": "stdout",
     "output_type": "stream",
     "text": [
      "False\n",
      "['mon texte à sauvegarder.\\n', 'Sur plusieurs lignes.\\n']\n",
      "True\n"
     ]
    }
   ],
   "source": [
    "with open('monfichier.txt','r') as myfile:\n",
    "    contenu = myfile.readlines()\n",
    "    print(myfile.closed)\n",
    "print(contenu)\n",
    "print(myfile.closed)"
   ]
  },
  {
   "cell_type": "markdown",
   "metadata": {
    "slideshow": {
     "slide_type": "fragment"
    }
   },
   "source": [
    "Ecriture"
   ]
  },
  {
   "cell_type": "code",
   "execution_count": 47,
   "metadata": {
    "collapsed": true
   },
   "outputs": [],
   "source": [
    "with open('monfichier.txt','w') as myfile:\n",
    "    myfile.write('mon texte à sauvegarder.\\nSur plusieurs lignes.\\n')"
   ]
  },
  {
   "cell_type": "markdown",
   "metadata": {
    "slideshow": {
     "slide_type": "slide"
    }
   },
   "source": [
    "<h3>Fonctions</h3>\n",
    "\t\t\t\t\t<ul>\n",
    "\t\t\t\t\t\t<li>Définition et Arguments</li>\n",
    "\t\t\t\t\t\t<li>Valeur de retour</li>\n",
    "\t\t\t\t\t\t<li>Documentation</li>\n",
    "\t\t\t\t\t\t<li>Décorateurs</li>\n",
    "\t\t\t\t\t\t<li>Lambdas</li>\n",
    "\t\t\t\t\t</ul>"
   ]
  },
  {
   "cell_type": "markdown",
   "metadata": {
    "slideshow": {
     "slide_type": "subslide"
    }
   },
   "source": [
    "<h3>Arguments</h3>"
   ]
  },
  {
   "cell_type": "code",
   "execution_count": 55,
   "metadata": {
    "collapsed": true
   },
   "outputs": [],
   "source": [
    "def calcul_milieu(pt_a, pt_b, affiche_pts=False):\n",
    "    pass"
   ]
  },
  {
   "cell_type": "code",
   "execution_count": 2,
   "metadata": {
    "collapsed": true,
    "slideshow": {
     "slide_type": "skip"
    }
   },
   "outputs": [],
   "source": [
    "def calcul_milieu(pt_a, pt_b, affiche_pts=False):\n",
    "    pt_m = (pt_a[0]+pt_b[0])/2,(pt_a[1]+pt_b[1])/2\n",
    "    if affiche_pts:\n",
    "        print(\"A:{} B:{} M:{}\".format(pt_a,pt_b,pt_m))\n",
    "    return pt_m"
   ]
  },
  {
   "cell_type": "code",
   "execution_count": 56,
   "metadata": {
    "collapsed": true
   },
   "outputs": [],
   "source": [
    "calcul_milieu((3.5, 2.9), (-1.04, -8.32))"
   ]
  },
  {
   "cell_type": "code",
   "execution_count": 71,
   "metadata": {},
   "outputs": [
    {
     "name": "stdout",
     "output_type": "stream",
     "text": [
      "A:(3.5, 2.9) B:(-1.04, -8.32) M:(1.23, -2.71)\n"
     ]
    },
    {
     "data": {
      "text/plain": [
       "(1.23, -2.71)"
      ]
     },
     "execution_count": 71,
     "metadata": {},
     "output_type": "execute_result"
    }
   ],
   "source": [
    "calcul_milieu(pt_b=(3.5, 2.9), pt_a= (-1.04, -8.32), affiche_pts=True)"
   ]
  },
  {
   "cell_type": "markdown",
   "metadata": {
    "slideshow": {
     "slide_type": "subslide"
    }
   },
   "source": [
    "<h3>Valeurs de retour</h3>\n",
    "                    "
   ]
  },
  {
   "cell_type": "markdown",
   "metadata": {
    "slideshow": {
     "slide_type": "fragment"
    }
   },
   "source": [
    "Retourner une valeur:"
   ]
  },
  {
   "cell_type": "code",
   "execution_count": 29,
   "metadata": {
    "slideshow": {
     "slide_type": "-"
    }
   },
   "outputs": [
    {
     "data": {
      "text/plain": [
       "'non'"
      ]
     },
     "execution_count": 29,
     "metadata": {},
     "output_type": "execute_result"
    }
   ],
   "source": [
    "def dis_non():\n",
    "    return \"non\"\n",
    "dis_non()"
   ]
  },
  {
   "cell_type": "markdown",
   "metadata": {
    "slideshow": {
     "slide_type": "fragment"
    }
   },
   "source": [
    "Retourner un ensemble de valeurs:"
   ]
  },
  {
   "cell_type": "code",
   "execution_count": 33,
   "metadata": {},
   "outputs": [
    {
     "name": "stdout",
     "output_type": "stream",
     "text": [
      "(-0.5, 0.5)\n"
     ]
    }
   ],
   "source": [
    "def calcul_milieu(point_a, point_b):\n",
    "    return (point_a[0]-point_b[0])/2. , (point_a[1]-point_b[1])/2.\n",
    "x=calcul_milieu((0.,1.),(1.,0.)) \n",
    "print(x)"
   ]
  },
  {
   "cell_type": "markdown",
   "metadata": {
    "slideshow": {
     "slide_type": "subslide"
    }
   },
   "source": [
    "<h3>Documentation</h3>"
   ]
  },
  {
   "cell_type": "code",
   "execution_count": 34,
   "metadata": {},
   "outputs": [],
   "source": [
    "def calcul_milieu(point_a, point_b):\n",
    "    \"\"\"\n",
    "    Compute the **middle** of the (a,b) segment.\n",
    "    :param point_a: tuple or list (xa, ya)\n",
    "    :param point_b: tuple or list (xb, yb)\n",
    "    :return: tuple (xm, ym)\n",
    "    \"\"\"\n",
    "    return (point_a[0]-point_b[0])/2. , (point_a[1]-point_b[1])/2."
   ]
  },
  {
   "cell_type": "code",
   "execution_count": 35,
   "metadata": {
    "slideshow": {
     "slide_type": "-"
    }
   },
   "outputs": [],
   "source": [
    "calcul_milieu?"
   ]
  },
  {
   "cell_type": "markdown",
   "metadata": {
    "slideshow": {
     "slide_type": "subslide"
    }
   },
   "source": [
    "### Décorateurs"
   ]
  },
  {
   "cell_type": "code",
   "execution_count": 37,
   "metadata": {},
   "outputs": [
    {
     "data": {
      "text/html": [
       "Bonjour Terry"
      ],
      "text/plain": [
       "<IPython.core.display.HTML object>"
      ]
     },
     "metadata": {},
     "output_type": "display_data"
    }
   ],
   "source": [
    "from IPython.display import HTML\n",
    "\n",
    "def strong_decorate(func):\n",
    "    def func_wrapper(name):\n",
    "        return \"<strong>{0}</strong>\".format(func(name))\n",
    "    return func_wrapper\n",
    "\n",
    "#@strong_decorate\n",
    "def dis_bonjour(name):\n",
    "    return \"Bonjour {}\".format(name)\n",
    "display(HTML(dis_bonjour(\"Terry\")))"
   ]
  },
  {
   "cell_type": "markdown",
   "metadata": {},
   "source": [
    "<ul>\n",
    "    <li>Permet de faire une composition de fonction simplement</li>\n",
    "    <li>ou de modifier l'execution d'une fonction</li>\n",
    "</ul>"
   ]
  },
  {
   "cell_type": "markdown",
   "metadata": {
    "collapsed": true,
    "slideshow": {
     "slide_type": "subslide"
    }
   },
   "source": [
    "<h3>Lambda</h3>\n",
    "\t\t\t\t\t<p>fonction anonyme</p>\n",
    "<pre><code class=\"python\">square = lambda x:x**2</code>\n",
    "</pre>\n",
    "<p>\n",
    "\tPermet de définir localement une fonction simple (dans un appel de fonction par exemple)\n",
    "</p>"
   ]
  },
  {
   "cell_type": "code",
   "execution_count": 39,
   "metadata": {},
   "outputs": [
    {
     "name": "stdout",
     "output_type": "stream",
     "text": [
      "[-3.14, 4, -12, 32]\n"
     ]
    }
   ],
   "source": [
    "ls = [4,-12,32,-3.14]\n",
    "#ls.sort()\n",
    "ls.sort(key=lambda x:x**2)\n",
    "print(ls)"
   ]
  },
  {
   "cell_type": "markdown",
   "metadata": {
    "slideshow": {
     "slide_type": "slide"
    }
   },
   "source": [
    "## Objets et Classes"
   ]
  },
  {
   "cell_type": "markdown",
   "metadata": {
    "slideshow": {
     "slide_type": "subslide"
    }
   },
   "source": [
    "En python, tout est objet:"
   ]
  },
  {
   "cell_type": "code",
   "execution_count": 40,
   "metadata": {},
   "outputs": [
    {
     "name": "stdout",
     "output_type": "stream",
     "text": [
      "[1, 2, 3.14, 20]\n",
      "<class 'int'>\n"
     ]
    }
   ],
   "source": [
    "l = [3.14, 20, 1, 2]\n",
    "a=1\n",
    "l.sort()\n",
    "print(l)\n",
    "print(a.__class__)"
   ]
  },
  {
   "cell_type": "markdown",
   "metadata": {
    "slideshow": {
     "slide_type": "subslide"
    }
   },
   "source": [
    "### Vocabulaire\n",
    "\t\t\t\t\n",
    "* Classe: Plan de fonctionnement d'une entitée\n",
    "* Objet: Réalisation d'une classe\n",
    "* Attribut: variable propre à un objet \n",
    "* Méthode: fonction propre à une classe\n",
    "\n",
    "En python il n'y a pas de différence privé/publique formelle. L'usage de doubles underscores dans le nom indique un élément privé: <em>l.\\_\\_class\\_\\_</em>\n"
   ]
  },
  {
   "cell_type": "markdown",
   "metadata": {
    "slideshow": {
     "slide_type": "subslide"
    }
   },
   "source": [
    "### Syntaxe"
   ]
  },
  {
   "cell_type": "code",
   "execution_count": 86,
   "metadata": {},
   "outputs": [
    {
     "name": "stdout",
     "output_type": "stream",
     "text": [
      "X:0 Y:3\n"
     ]
    }
   ],
   "source": [
    "class point:\n",
    "    def __init__(self, coord_x=0,coord_y=0):\n",
    "        self.x = int(coord_x)\n",
    "        self.y = int(coord_y)\n",
    "\n",
    "    def __repr__(self):\n",
    "        return \"X:{} Y:{}\".format(self.x, self.y)\n",
    "    \n",
    "pt_a=point(coord_y=3.4)\n",
    "print(pt_a)"
   ]
  },
  {
   "cell_type": "markdown",
   "metadata": {
    "slideshow": {
     "slide_type": "slide"
    }
   },
   "source": [
    "## Intéractions graphiques"
   ]
  },
  {
   "cell_type": "markdown",
   "metadata": {
    "slideshow": {
     "slide_type": "subslide"
    }
   },
   "source": [
    "### Jupyter Notebook\n",
    "\n",
    "* Narrative computations\n",
    "* Interactions\n",
    "\n",
    "<h3>Narrativisme</h3>\n",
    "\t<p>\n",
    "\t\tCréer un document regroupant narration et calculs en utilisant les capacités du notebook: fusionner un cours et des exercices en un seul document, proposer une documentation exécutable…\n",
    "\t</p>\n",
    "\t<h4>Demo: ce document !</h4>"
   ]
  },
  {
   "cell_type": "markdown",
   "metadata": {
    "slideshow": {
     "slide_type": "subslide"
    }
   },
   "source": [
    "<h3>Interactions</h3>\n",
    "\t<p>\n",
    "\t\tUtilisation de widgets pour interagir avec le code\n",
    "\t</p>\n",
    "\t<ul>\n",
    "\t\t<li>Entrées utilisateur multiples</li>\n",
    "\t\t<li>Exploration interactive de données</li>\n",
    "\t</ul>"
   ]
  },
  {
   "cell_type": "code",
   "execution_count": 41,
   "metadata": {
    "slideshow": {
     "slide_type": "subslide"
    }
   },
   "outputs": [],
   "source": [
    "%matplotlib inline\n",
    "import matplotlib.pyplot as plt\n",
    "from numpy import arange,sin,pi\n",
    "from ipywidgets import interactive\n",
    "\n",
    "theta = arange(0, 50*pi, .01)\n",
    "\n",
    "def sinf(k,theta):\n",
    "    return sin(k*theta)\n",
    "\n",
    "def polar_plot(k=2.65):\n",
    "    ax = plt.subplot(111,projection='polar')\n",
    "    ax.plot(theta, sinf(k,theta))\n",
    "    ax.set_frame_on(False)\n",
    "    ax.set_xticks([]) \n",
    "    ax.set_yticks([])\n",
    "    ax.set_ylim(ymax=1.2)"
   ]
  },
  {
   "cell_type": "markdown",
   "metadata": {
    "slideshow": {
     "slide_type": "subslide"
    }
   },
   "source": [
    "### Exemple:"
   ]
  },
  {
   "cell_type": "code",
   "execution_count": 43,
   "metadata": {
    "slideshow": {
     "slide_type": "-"
    }
   },
   "outputs": [
    {
     "data": {
      "application/vnd.jupyter.widget-view+json": {
       "model_id": "06842c5178dd414abf9894aeab763d3d",
       "version_major": 2,
       "version_minor": 0
      },
      "text/plain": [
       "interactive(children=(Dropdown(description='k', index=1, options=(1.34, 2.65, 3.33), value=2.65), Output()), _…"
      ]
     },
     "metadata": {},
     "output_type": "display_data"
    }
   ],
   "source": [
    "interactive(polar_plot,k=[1.34,2.65,3.33])#(0.5,4.,0.01))"
   ]
  },
  {
   "cell_type": "markdown",
   "metadata": {
    "slideshow": {
     "slide_type": "subslide"
    }
   },
   "source": [
    "<h3>PyQt: éléments graphiques</h3>\n",
    "\t\t\t\t\t<p>\n",
    "\t\t\t\t\t\tBindings Qt4/Qt5 pour python\n",
    "\t\t\t\t\t</p>\n",
    "\t\t\t\t\t<ul>\n",
    "\t\t\t\t\t\t<li>MessagesBox et Dialogs</li>\n",
    "\t\t\t\t\t\t<li>Vraies interfaces (ex surf_view)</li>\n",
    "\t\t\t\t\t</ul>"
   ]
  },
  {
   "cell_type": "markdown",
   "metadata": {
    "slideshow": {
     "slide_type": "subslide"
    }
   },
   "source": [
    "<h4>MessageBox</h4>\n",
    "\t\t\t\t\t<p>\n",
    "\t\t\t\t\t\tAffiche un message ou pose une question simple\n",
    "\t\t\t\t\t</p>\n",
    "\t\t\t\t\t<ul>\n",
    "\t\t\t\t\t\t<li>QMessageBox.information()</li>\n",
    "\t\t\t\t\t\t<li>QMessageBox.question()</li>\n",
    "\t\t\t\t\t\t<li>QMessageBox.warning()</li>\n",
    "\t\t\t\t\t\t<li>QMessageBox.critical()</li>\n",
    "\t\t\t\t\t</ul>\n"
   ]
  },
  {
   "cell_type": "code",
   "execution_count": null,
   "metadata": {
    "collapsed": true,
    "slideshow": {
     "slide_type": "skip"
    }
   },
   "outputs": [],
   "source": [
    "from PyQt5 import QtWidgets\n",
    "app = QtWidgets.QApplication([])"
   ]
  },
  {
   "cell_type": "code",
   "execution_count": 2,
   "metadata": {
    "slideshow": {
     "slide_type": "fragment"
    }
   },
   "outputs": [
    {
     "data": {
      "text/plain": [
       "16384"
      ]
     },
     "execution_count": 2,
     "metadata": {},
     "output_type": "execute_result"
    }
   ],
   "source": [
    "from PyQt5 import QtWidgets\n",
    "app = QtWidgets.QApplication(sys.argv)\n",
    "\n",
    "QtWidgets.QMessageBox.question(None, 'Message', \"Are you sure to quit?\", QtWidgets.QMessageBox.Yes | QtWidgets.QMessageBox.No, QtWidgets.QMessageBox.No)\n"
   ]
  },
  {
   "cell_type": "markdown",
   "metadata": {
    "slideshow": {
     "slide_type": "subslide"
    }
   },
   "source": [
    "<h4>QDialogs</h4>\n",
    "\t\t\t\t\t<p>Permet de récupérer une information</p>\n",
    "\t\t\t\t\t<ul>\n",
    "\t\t\t\t\t\t<li>QInputDialog</li>\n",
    "\t\t\t\t\t\t<ul>\n",
    "\t\t\t\t\t\t\t<li>.getInt()</li>\n",
    "\t\t\t\t\t\t\t<li>.getDouble()</li>\n",
    "\t\t\t\t\t\t\t<li>.getText()</li>\n",
    "\t\t\t\t\t\t\t<li>.getItem()</li>\n",
    "\t\t\t\t\t\t</ul>\n",
    "\t\t\t\t\t\t<li>QFileDialog</li>\n",
    "\t\t\t\t\t\t<ul>\n",
    "\t\t\t\t\t\t\t<li>.getExistingDirectory()</li>\n",
    "\t\t\t\t\t\t\t<li>.getOpenFileName()</li>\n",
    "\t\t\t\t\t\t\t<li>.getSaveFileName()</li>\n",
    "\t\t\t\t\t\t</ul>\n",
    "\t\t\t\t\t</ul>"
   ]
  },
  {
   "cell_type": "markdown",
   "metadata": {
    "slideshow": {
     "slide_type": "subslide"
    }
   },
   "source": [
    "<h3>Exemple minimal d'interface</h3>\n"
   ]
  },
  {
   "cell_type": "code",
   "execution_count": 1,
   "metadata": {},
   "outputs": [
    {
     "ename": "SystemExit",
     "evalue": "0",
     "output_type": "error",
     "traceback": [
      "An exception has occurred, use %tb to see the full traceback.\n",
      "\u001b[0;31mSystemExit\u001b[0m\u001b[0;31m:\u001b[0m 0\n"
     ]
    },
    {
     "name": "stderr",
     "output_type": "stream",
     "text": [
      "/home/jlaforet/anaconda3/lib/python3.6/site-packages/IPython/core/interactiveshell.py:2870: UserWarning: To exit: use 'exit', 'quit', or Ctrl-D.\n",
      "  warn(\"To exit: use 'exit', 'quit', or Ctrl-D.\", stacklevel=1)\n"
     ]
    }
   ],
   "source": [
    "import sys\n",
    "from PyQt5 import QtWidgets\n",
    "\n",
    "def main():\n",
    "    app=QtWidgets.QApplication.instance()\n",
    "    if not app:\n",
    "        app = QtWidgets.QApplication(sys.argv)\n",
    "    w = QtWidgets.QWidget()\n",
    "    w.resize(250, 150)\n",
    "    w.move(300, 300)\n",
    "    w.setWindowTitle('Simple')\n",
    "    qbtn = QtWidgets.QPushButton('Quit', w)\n",
    "    qbtn.clicked.connect(w.close)\n",
    "    qbtn.resize(qbtn.sizeHint())\n",
    "    qbtn.move(50, 50)       \n",
    "    w.show()\n",
    "    sys.exit(app.exec_())\n",
    "\n",
    "if __name__ == '__main__':\n",
    "    main()"
   ]
  },
  {
   "cell_type": "markdown",
   "metadata": {
    "slideshow": {
     "slide_type": "slide"
    }
   },
   "source": [
    "# Profiling"
   ]
  },
  {
   "cell_type": "markdown",
   "metadata": {},
   "source": [
    "Code exemple:"
   ]
  },
  {
   "cell_type": "code",
   "execution_count": 3,
   "metadata": {},
   "outputs": [],
   "source": [
    "import numpy as np\n",
    "def code_a_tester(var):\n",
    "    j=0\n",
    "    a=np.random.rand(var)@np.random.rand(var)\n",
    "    for i in range(var):\n",
    "        j+=i*i\n",
    "    b=np.random.rand(j)@np.random.rand(j)\n",
    "    return a,b"
   ]
  },
  {
   "cell_type": "code",
   "execution_count": 4,
   "metadata": {},
   "outputs": [
    {
     "data": {
      "text/plain": [
       "(28.15483092069909, 172705.58137740256)"
      ]
     },
     "execution_count": 4,
     "metadata": {},
     "output_type": "execute_result"
    }
   ],
   "source": [
    "code_a_tester(128)"
   ]
  },
  {
   "cell_type": "markdown",
   "metadata": {
    "slideshow": {
     "slide_type": "subslide"
    }
   },
   "source": [
    "## Timings"
   ]
  },
  {
   "cell_type": "code",
   "execution_count": 5,
   "metadata": {},
   "outputs": [
    {
     "name": "stdout",
     "output_type": "stream",
     "text": [
      "579 µs ± 9.01 µs per loop (mean ± std. dev. of 7 runs, 1000 loops each)\n"
     ]
    }
   ],
   "source": [
    "%%timeit\n",
    "code_a_tester(28)\n",
    "code_a_tester(42)"
   ]
  },
  {
   "cell_type": "markdown",
   "metadata": {
    "slideshow": {
     "slide_type": "subslide"
    }
   },
   "source": [
    "## Function Profiling"
   ]
  },
  {
   "cell_type": "code",
   "execution_count": 6,
   "metadata": {},
   "outputs": [
    {
     "name": "stdout",
     "output_type": "stream",
     "text": [
      " "
     ]
    }
   ],
   "source": [
    "%prun code_a_tester(128)"
   ]
  },
  {
   "cell_type": "markdown",
   "metadata": {
    "slideshow": {
     "slide_type": "subslide"
    }
   },
   "source": [
    "## Line profiling"
   ]
  },
  {
   "cell_type": "code",
   "execution_count": null,
   "metadata": {
    "collapsed": true,
    "slideshow": {
     "slide_type": "skip"
    }
   },
   "outputs": [],
   "source": []
  },
  {
   "cell_type": "code",
   "execution_count": 7,
   "metadata": {},
   "outputs": [],
   "source": [
    "%load_ext line_profiler"
   ]
  },
  {
   "cell_type": "code",
   "execution_count": 8,
   "metadata": {},
   "outputs": [],
   "source": [
    "%lprun -f code_a_tester code_a_tester(128)"
   ]
  },
  {
   "cell_type": "markdown",
   "metadata": {
    "collapsed": true,
    "slideshow": {
     "slide_type": "slide"
    }
   },
   "source": [
    "## Bibliothèques principales pour les sciences\n",
    "\n",
    "* [Numpy](L1.Numpy.ipynb)\n",
    "* [Scipy](L2.SciPy.ipynb)\n",
    "* [Pandas](L3.Pandas.ipynb)\n",
    "* [Sympy](L4.Sympy.ipynb)\n",
    "* [Matplotlib](L5.Matplotlib.ipynb)\n",
    "* [Seaborn](L6.Seaborn.ipynb)\n",
    "* [Scikit Learn](L7.ScikitLearn.ipynb)\n",
    "\n",
    "Basé sur les [notebooks](https://github.com/pnavaro/python-notebooks) de Pierre Navaro ([IRMAR](https://irmar.univ-rennes1.fr)) et les tutoriaux officiels\n",
    "\n"
   ]
  },
  {
   "cell_type": "code",
   "execution_count": null,
   "metadata": {
    "collapsed": true
   },
   "outputs": [],
   "source": []
  }
 ],
 "metadata": {
  "celltoolbar": "Slideshow",
  "kernelspec": {
   "display_name": "Python 3",
   "language": "python",
   "name": "python3"
  },
  "language_info": {
   "codemirror_mode": {
    "name": "ipython",
    "version": 3
   },
   "file_extension": ".py",
   "mimetype": "text/x-python",
   "name": "python",
   "nbconvert_exporter": "python",
   "pygments_lexer": "ipython3",
   "version": "3.6.2"
  },
  "livereveal": {
   "autolaunch": true,
   "slideNumber": "c/t",
   "theme": "sky"
  }
 },
 "nbformat": 4,
 "nbformat_minor": 2
}

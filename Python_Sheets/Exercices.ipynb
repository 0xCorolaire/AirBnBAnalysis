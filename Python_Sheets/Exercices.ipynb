{
 "cells": [
  {
   "cell_type": "markdown",
   "metadata": {},
   "source": [
    "# Bases du Langage"
   ]
  },
  {
   "cell_type": "markdown",
   "metadata": {},
   "source": [
    "### Exercise:  String\n",
    "\n",
    "\n",
    "- Ask user to input a string.\n",
    "- Print out the string length.\n",
    "- Check if the last character is equal to the first character.\n",
    "- Check if this string is lower case.\n",
    "- Check there is no digit in the string."
   ]
  },
  {
   "cell_type": "markdown",
   "metadata": {},
   "source": [
    "<button data-toggle=\"collapse\" data-target=\"#sol1\" class='btn btn-primary'>Solution</button>\n",
    "<div id=\"sol1\" class=\"collapse\">\n",
    "```python\n",
    "s = input(\"Please input a string :\")\n",
    "print( s + \" length :\", len(s))\n",
    "print( s + \" first character == last character :\", s[0] == s[-1])\n",
    "print( s + \" is lower case:\", s.islower())\n",
    "print( s + \" contains digits:\", not s.isalpha())\n",
    "```"
   ]
  },
  {
   "cell_type": "code",
   "execution_count": 5,
   "metadata": {},
   "outputs": [
    {
     "name": "stdout",
     "output_type": "stream",
     "text": [
      "entrez une chaine:Test\n"
     ]
    }
   ],
   "source": [
    "st=input('entrez une chaine:')\n",
    "\n",
    "print(len(st))\n",
    "\n",
    "st[0]==st[-1]"
   ]
  },
  {
   "cell_type": "code",
   "execution_count": 12,
   "metadata": {},
   "outputs": [
    {
     "data": {
      "text/plain": [
       "True"
      ]
     },
     "execution_count": 12,
     "metadata": {},
     "output_type": "execute_result"
    }
   ],
   "source": [
    "st.isalpha()"
   ]
  },
  {
   "cell_type": "code",
   "execution_count": 13,
   "metadata": {},
   "outputs": [
    {
     "data": {
      "text/plain": [
       "False"
      ]
     },
     "execution_count": 13,
     "metadata": {},
     "output_type": "execute_result"
    }
   ],
   "source": [
    "st.islower()"
   ]
  },
  {
   "cell_type": "markdown",
   "metadata": {},
   "source": [
    "### Exercise: Lists\n",
    "\n",
    "- Convert the string \"python UTC 2018\" into the list [\"python\",\"UTC\", 2018]\n",
    "- Insert \"February\" and value 13 before 2018 in the result list.\n",
    "- Capitalize the first item to \"Python\"\n",
    "- Create a dictionary with following keys (course, month, day, year)\n",
    "- Print out the items.\n",
    "- Append the key \"place\" to this dictionary and set the value to \"UTC\"."
   ]
  },
  {
   "cell_type": "markdown",
   "metadata": {},
   "source": [
    "<button data-toggle=\"collapse\" data-target=\"#sol2\" class='btn btn-primary'>Solution</button>\n",
    "<div id=\"sol2\" class=\"collapse\">\n",
    "```python\n",
    "s = \"python UTC 2018\"\n",
    "l = s.split(\" \")\n",
    "print(l)\n",
    "l = l[:2] + [\"February\", 13] + l[2:]\n",
    "print(l)\n",
    "l[0] = l[0].capitalize()\n",
    "print(l)\n",
    "d = dict(course=l[0], month=l[2], day=l[3], year=l[4])\n",
    "d.items()\n",
    "d[\"place\"] = l[1]\n",
    "d\n",
    "```"
   ]
  },
  {
   "cell_type": "code",
   "execution_count": 29,
   "metadata": {},
   "outputs": [
    {
     "name": "stdout",
     "output_type": "stream",
     "text": [
      "['Python', 'UTC', 'February', 13, '2018']\n"
     ]
    }
   ],
   "source": [
    "l=\"python UTC 2018\".split(' ')\n",
    "l.insert(2,\"February\")\n",
    "l.insert(3,13)\n",
    "l[0]=l[0].capitalize()"
   ]
  },
  {
   "cell_type": "code",
   "execution_count": 33,
   "metadata": {},
   "outputs": [
    {
     "name": "stdout",
     "output_type": "stream",
     "text": [
      "{'course': 'Python', 'month': 'February', 'day': 13, 'year': '2018', 'place': 'UTC'}\n"
     ]
    }
   ],
   "source": [
    "d={\"course\":l[0],\"month\":l[2],\"day\":l[3],\"year\":l[4]}\n",
    "d['place']=l[1]\n",
    "print(d)"
   ]
  },
  {
   "cell_type": "markdown",
   "metadata": {},
   "source": [
    "### Exercise: Anagram\n",
    "An anagram is word or phrase formed by rearranging the letters of a different word or phrase, typically using all the original letters exactly once.\n",
    "\n",
    "Write a code that print True if s1 is an anagram of s2. \n",
    "Hint: `s = s.replace(c,\"\",1)` removes the character `c` in string `s` one time.\n",
    "\n",
    "```python\n",
    "s1 = \"pascal obispo\"\n",
    "s2 = \"pablo picasso\"\n",
    "..\n",
    "True\n",
    "```"
   ]
  },
  {
   "cell_type": "markdown",
   "metadata": {},
   "source": [
    "<button data-toggle=\"collapse\" data-target=\"#anagram\" class='btn btn-primary'>Solution</button>\n",
    "<div id=\"anagram\" class=\"collapse\">\n",
    "```python\n",
    "s1 = \"pascal obispo\"\n",
    "s2 = \"pablo picasso\"\n",
    "\n",
    "assert len(s1) == len(s2)\n",
    "\n",
    "for c1 in s1:\n",
    "    for c2 in s2:\n",
    "        if c1 == c2:\n",
    "            s1 = s1.replace(c1,\"\",1)\n",
    "            s2 = s2.replace(c2,\"\",1)\n",
    "\n",
    "print(len(s1) == len(s2) == 0 )     \n",
    "\n",
    "s1 = list(\"pascalobispo\")\n",
    "s2 = list(\"pablopicasso\")\n",
    "s1.sort()\n",
    "s2.sort()\n",
    "print(s1 == s2)\n",
    "\n",
    "\n",
    "# better solution\n",
    "s1 = list(\"pascalobispo\")\n",
    "s2 = list(\"pablopicasso\")\n",
    "print(sorted(s1) == sorted(s2))\n",
    "```"
   ]
  },
  {
   "cell_type": "code",
   "execution_count": 38,
   "metadata": {},
   "outputs": [
    {
     "data": {
      "text/plain": [
       "True"
      ]
     },
     "execution_count": 38,
     "metadata": {},
     "output_type": "execute_result"
    }
   ],
   "source": [
    "sorted(\"pascal obispo\")==sorted(\"pablo picasso\")"
   ]
  },
  {
   "cell_type": "code",
   "execution_count": 40,
   "metadata": {},
   "outputs": [],
   "source": []
  },
  {
   "cell_type": "markdown",
   "metadata": {},
   "source": [
    "### Exercise: Exponential\n",
    "\n",
    "- Write some code to compute the exponential value using the taylor series developed at 0 and without any import of external modules:\n",
    "\n",
    "$$ e^x = \\sum_{i=0}^n \\frac{x^i}{i!} $$\n"
   ]
  },
  {
   "cell_type": "markdown",
   "metadata": {},
   "source": [
    "<button data-toggle=\"collapse\" data-target=\"#exponential\" class='btn btn-primary'>Solution</button>\n",
    "<div id=\"exponential\" class=\"collapse\">\n",
    "```python\n",
    "   x = 1\n",
    "   n = 50\n",
    "   e = 0.\n",
    "   power = 1.\n",
    "   fact = 1.\n",
    "   for i in range(n):\n",
    "      e += power/fact\n",
    "      power *= x\n",
    "      fact *= i+1\n",
    "   print(e)\n",
    "\n",
    "```"
   ]
  },
  {
   "cell_type": "code",
   "execution_count": 3,
   "metadata": {
    "collapsed": true
   },
   "outputs": [],
   "source": [
    "x = 1\n",
    "n = 50\n",
    "\n",
    "\n",
    "# e = 2.718281828459045"
   ]
  },
  {
   "cell_type": "markdown",
   "metadata": {},
   "source": [
    "### Exercise: Palindrome\n",
    "Écrire une fonction *palindrome(n)* qui testera si l'entier passé en argument est un palindrome"
   ]
  },
  {
   "cell_type": "markdown",
   "metadata": {},
   "source": [
    "<button data-toggle=\"collapse\" data-target=\"#s1\" class='btn btn-primary'>Solution</button>\n",
    "<div id=\"s1\" class=\"collapse\">\n",
    "```python\n",
    "def palindrome(nombre):\n",
    "    return str(nombre)==str(nombre)[::-1]\n",
    "```"
   ]
  },
  {
   "cell_type": "code",
   "execution_count": 41,
   "metadata": {
    "collapsed": true
   },
   "outputs": [],
   "source": [
    "def palindrome(n):\n",
    "    return str(n)==str(n)[::-1]"
   ]
  },
  {
   "cell_type": "code",
   "execution_count": 42,
   "metadata": {},
   "outputs": [
    {
     "data": {
      "text/plain": [
       "(True, False)"
      ]
     },
     "execution_count": 42,
     "metadata": {},
     "output_type": "execute_result"
    }
   ],
   "source": [
    "palindrome(1221),palindrome(1664)"
   ]
  },
  {
   "cell_type": "markdown",
   "metadata": {},
   "source": [
    "### Exercise: Construction de palindrome\n",
    "Écrire une fonction qui cherche à créer un palindrome à partir d'un entier quelqueconque en lui ajoutant son inverse (ex: 123  + 321) itérativement. On pourra limiter le nombre maximal d'itérations."
   ]
  },
  {
   "cell_type": "markdown",
   "metadata": {},
   "source": [
    "<button data-toggle=\"collapse\" data-target=\"#s2\" class='btn btn-primary'>Solution</button>\n",
    "<div id=\"s2\" class=\"collapse\">\n",
    "```python\n",
    "def make_pal(nb):\n",
    "    road = [nb]\n",
    "    while not(palindrome(nb)) or len(road)<2:\n",
    "        nb += int(str(nb)[::-1])\n",
    "        road.append(nb)\n",
    "        if len(str(nb)) > 5000:\n",
    "            raise ArithmeticError(\"No palindrome found in {} iterations\".format(len(road)))\n",
    "    return len(road),road\n",
    "```"
   ]
  },
  {
   "cell_type": "code",
   "execution_count": 43,
   "metadata": {
    "collapsed": true
   },
   "outputs": [],
   "source": [
    "\n",
    "\n",
    "def make_pal(nb):\n",
    "    road = [nb]\n",
    "    while not(palindrome(nb)) or len(road)<2:\n",
    "        nb += int(str(nb)[::-1])\n",
    "        road.append(nb)\n",
    "        if len(str(nb)) > 5000:\n",
    "            raise ArithmeticError(\"No palindrome found in {} iterations\".format(len(road)))\n",
    "    return len(road),road\n",
    "\n"
   ]
  },
  {
   "cell_type": "code",
   "execution_count": 45,
   "metadata": {},
   "outputs": [
    {
     "ename": "ArithmeticError",
     "evalue": "No palindrome found in 12028 iterations",
     "output_type": "error",
     "traceback": [
      "\u001b[0;31m---------------------------------------------------------------------------\u001b[0m",
      "\u001b[0;31mArithmeticError\u001b[0m                           Traceback (most recent call last)",
      "\u001b[0;32m<ipython-input-45-d2b6376d55d1>\u001b[0m in \u001b[0;36m<module>\u001b[0;34m()\u001b[0m\n\u001b[0;32m----> 1\u001b[0;31m \u001b[0mmake_pal\u001b[0m\u001b[0;34m(\u001b[0m\u001b[0;36m9999\u001b[0m\u001b[0;34m)\u001b[0m\u001b[0;34m\u001b[0m\u001b[0m\n\u001b[0m",
      "\u001b[0;32m<ipython-input-43-0e2513a751c4>\u001b[0m in \u001b[0;36mmake_pal\u001b[0;34m(nb)\u001b[0m\n\u001b[1;32m      7\u001b[0m         \u001b[0mroad\u001b[0m\u001b[0;34m.\u001b[0m\u001b[0mappend\u001b[0m\u001b[0;34m(\u001b[0m\u001b[0mnb\u001b[0m\u001b[0;34m)\u001b[0m\u001b[0;34m\u001b[0m\u001b[0m\n\u001b[1;32m      8\u001b[0m         \u001b[0;32mif\u001b[0m \u001b[0mlen\u001b[0m\u001b[0;34m(\u001b[0m\u001b[0mstr\u001b[0m\u001b[0;34m(\u001b[0m\u001b[0mnb\u001b[0m\u001b[0;34m)\u001b[0m\u001b[0;34m)\u001b[0m \u001b[0;34m>\u001b[0m \u001b[0;36m5000\u001b[0m\u001b[0;34m:\u001b[0m\u001b[0;34m\u001b[0m\u001b[0m\n\u001b[0;32m----> 9\u001b[0;31m             \u001b[0;32mraise\u001b[0m \u001b[0mArithmeticError\u001b[0m\u001b[0;34m(\u001b[0m\u001b[0;34m\"No palindrome found in {} iterations\"\u001b[0m\u001b[0;34m.\u001b[0m\u001b[0mformat\u001b[0m\u001b[0;34m(\u001b[0m\u001b[0mlen\u001b[0m\u001b[0;34m(\u001b[0m\u001b[0mroad\u001b[0m\u001b[0;34m)\u001b[0m\u001b[0;34m)\u001b[0m\u001b[0;34m)\u001b[0m\u001b[0;34m\u001b[0m\u001b[0m\n\u001b[0m\u001b[1;32m     10\u001b[0m     \u001b[0;32mreturn\u001b[0m \u001b[0mlen\u001b[0m\u001b[0;34m(\u001b[0m\u001b[0mroad\u001b[0m\u001b[0;34m)\u001b[0m\u001b[0;34m,\u001b[0m\u001b[0mroad\u001b[0m\u001b[0;34m\u001b[0m\u001b[0m\n\u001b[1;32m     11\u001b[0m \u001b[0;34m\u001b[0m\u001b[0m\n",
      "\u001b[0;31mArithmeticError\u001b[0m: No palindrome found in 12028 iterations"
     ]
    }
   ],
   "source": [
    "make_pal(9999)"
   ]
  },
  {
   "cell_type": "markdown",
   "metadata": {},
   "source": [
    "### Exercise: Caesar cipher\n",
    "\n",
    "In cryptography, a Caesar cipher, is one of the simplest and most widely known encryption techniques. It is a type of substitution cipher in which each letter in the plaintext is replaced by a letter some fixed number of positions down the alphabet. For example, with a left shift of 3, D would be replaced by A, E would become B, and so on. \n",
    "\n",
    "- Create a function `cipher` that take the plain text and the key value as arguments and return the encrypted text.\n",
    "- Create a funtion `plain` that take the crypted text and the key value as arguments that return the deciphered text."
   ]
  },
  {
   "cell_type": "markdown",
   "metadata": {},
   "source": [
    "<button data-toggle=\"collapse\" data-target=\"#cipher\" class='btn btn-primary'>Solution with enumerate</button>\n",
    "<div id=\"cipher\" class=\"collapse\">\n",
    "```python\n",
    "def cipher( text, key):\n",
    "    \" Crypt text using Caesar cipher\"\n",
    "    alphabet = \"abcdefghijklmnopqrstuvwxyz\"\n",
    "    crypted_text = \"\"\n",
    "    for c in text:\n",
    "        for i, l in enumerate(alphabet):\n",
    "            if c == l:\n",
    "                crypted_text += alphabet[(i+key)%26]\n",
    "                    \n",
    "    return crypted_text\n",
    "\n",
    "def plain( text, key):\n",
    "    \" Uncrypt text using Caesar cipher\"\n",
    "    return cipher( text, -key)\n",
    "\n",
    "s = cipher(\"python\", 13)\n",
    "print( s )\n",
    "plain(s, 13)\n",
    "```"
   ]
  },
  {
   "cell_type": "code",
   "execution_count": null,
   "metadata": {
    "collapsed": true
   },
   "outputs": [],
   "source": []
  },
  {
   "cell_type": "markdown",
   "metadata": {},
   "source": [
    "### Exercise: Caesar cipher 2\n",
    "\n",
    "Code a new version of cypher function using list comprehension. \n",
    "\n",
    "Hints: \n",
    "- `s = ''.join(L)` convert the characters list `L` into a string `s`.\n",
    "- `L.index(c)` return the index position of `c` in list `L` \n",
    "- `\"c\".islower()` and `\"C\".isupper()` return `True`"
   ]
  },
  {
   "cell_type": "markdown",
   "metadata": {},
   "source": [
    "<button data-toggle=\"collapse\" data-target=\"#cipher2\" class='btn btn-primary'>Solution</button>\n",
    "<div id=\"cipher2\" class=\"collapse\">\n",
    "```python\n",
    "def cipher( text, key):\n",
    "    alphabet = \"abcdefghijklmnopqrstuvwxyz\"\n",
    "    ll = [alphabet[(alphabet.index(c)+key)%26] if c.islower() else c for c in text ]\n",
    "    alphabet = alphabet.upper()\n",
    "    u = [alphabet[(alphabet.index(c)+key)%26] if c.isupper() else c for c in ll ]\n",
    "    return ''.join(u)\n",
    "\n",
    "print(cipher(\"Python\", 5))\n",
    "s = cipher(\"Python\", 5)\n",
    "plain(s,5)\n",
    "```\n"
   ]
  },
  {
   "cell_type": "code",
   "execution_count": null,
   "metadata": {
    "collapsed": true
   },
   "outputs": [],
   "source": []
  },
  {
   "cell_type": "markdown",
   "metadata": {},
   "source": [
    "### Classes"
   ]
  },
  {
   "cell_type": "markdown",
   "metadata": {},
   "source": [
    "### Exercise: Polynomial\n",
    "\n",
    "- Create a class called Polynomial.\n",
    "- This class is built with a list containing the coefficients.\n",
    "- Create a method `diff(n)` to compute the nth derivative.\n",
    "- Override the __repr__ method to output a pretty printing.\n",
    "\n",
    "Hint: `\"{0:+d}\".format(coeff)` forces to print before the value of integer coeff."
   ]
  },
  {
   "cell_type": "markdown",
   "metadata": {},
   "source": [
    "<button data-toggle=\"collapse\" data-target=\"#polynom\" class='btn btn-primary'>Solution</button>\n",
    "<div id=\"polynom\" class=\"collapse\">\n",
    "```python\n",
    "class Polynomial:\n",
    "    \"\"\" Polynomial \"\"\"\n",
    "    def __init__( self, coefficients):\n",
    "        self.coeffs = coefficients\n",
    "        self.degree = len(coefficients)\n",
    "\n",
    "    def diff(self, n):\n",
    "        \"\"\" Return the nth derivative \"\"\"\n",
    "        coeffs = self.coeffs[:]\n",
    "        for k in range(n):\n",
    "            coeffs = [i * coeffs[i] for i in range(1,len(coeffs))]\n",
    "        return Polynomial(coeffs)\n",
    "\n",
    "    def __repr__(self):\n",
    "        output = \"\"\n",
    "        for i, c  in enumerate(self.coeffs):\n",
    "            output += \"{0:+d}x^{1}\".format(c,i)\n",
    "        return output\n",
    "\n",
    "    def pprint(self):\n",
    "        from IPython.display import Math, display\n",
    "        display(Math(self.__repr__()))\n",
    "\n",
    "P = Polynomial([-1,-1,1,-1,1])\n",
    "Q = P.diff(1)\n",
    "print(P)\n",
    "print(Q)\n",
    "```"
   ]
  },
  {
   "cell_type": "code",
   "execution_count": null,
   "metadata": {
    "collapsed": true
   },
   "outputs": [],
   "source": []
  },
  {
   "cell_type": "markdown",
   "metadata": {},
   "source": [
    "# Numpy"
   ]
  },
  {
   "cell_type": "markdown",
   "metadata": {},
   "source": [
    "### Create the following arrays\n",
    "```python\n",
    "[100 101 102 103 104 105 106 107 108 109]\n",
    "```\n",
    "Hint: numpy.arange\n",
    "```python\n",
    "[-2. -1.8 -1.6 -1.4 -1.2 -1. -0.8 -0.6 -0.4 -0.2 0. \n",
    "0.2 0.4 0.6 0.8 1. 1.2 1.4 1.6 1.8]\n",
    "```\n",
    "Hint: numpy.linspace\n",
    "```python\n",
    "[[ 0.001\t0.00129155 0.0016681 0.00215443 0.00278256 \n",
    "     0.003593810.00464159 0.00599484 0.00774264 0.01]\n",
    "```\n",
    "Hint: numpy.logspace\n",
    "```python\n",
    "[[ 0. 0. -1. -1. -1.] \n",
    " [ 0. 0.  0. -1. -1.] \n",
    " [ 0. 0.  0.  0. -1.]\n",
    " [ 0. 0.  0.  0.  0.]\n",
    " [ 0. 0.  0.  0.  0.] \n",
    " [ 0. 0.  0.  0.  0.] \n",
    " [ 0. 0.  0.  0.  0.]]\n",
    "```\n",
    "Hint: numpy.tri, numpy.zeros, numpy.transpose"
   ]
  },
  {
   "cell_type": "markdown",
   "metadata": {},
   "source": [
    "<button data-toggle=\"collapse\" data-target=\"#numpy1\" class='btn btn-primary'>Solution</button>\n",
    "\n",
    "<div id=\"numpy1\" class=\"collapse\">\n",
    "```python\n",
    "np.arange(100,110)\n",
    "np.linspace(-2,2,20,endpoint=False)\n",
    "np.logspace(-3,-2,10)\n",
    "np.tri(7,5, k=1) - np.ones((7,5))\n",
    "np.zeros((7,5))-np.tri(5, 7, k=-2).transpose()\n",
    "```"
   ]
  },
  {
   "cell_type": "code",
   "execution_count": 61,
   "metadata": {},
   "outputs": [
    {
     "name": "stdout",
     "output_type": "stream",
     "text": [
      "[ -2.00000000e+00  -1.80000000e+00  -1.60000000e+00  -1.40000000e+00\n",
      "  -1.20000000e+00  -1.00000000e+00  -8.00000000e-01  -6.00000000e-01\n",
      "  -4.00000000e-01  -2.00000000e-01  -4.44089210e-16   2.00000000e-01\n",
      "   4.00000000e-01   6.00000000e-01   8.00000000e-01   1.00000000e+00\n",
      "   1.20000000e+00   1.40000000e+00   1.60000000e+00   1.80000000e+00] [-2.  -1.8 -1.6 -1.4 -1.2 -1.  -0.8 -0.6 -0.4 -0.2  0.   0.2  0.4  0.6  0.8\n",
      "  1.   1.2  1.4  1.6  1.8]\n"
     ]
    },
    {
     "data": {
      "text/plain": [
       "True"
      ]
     },
     "execution_count": 61,
     "metadata": {},
     "output_type": "execute_result"
    }
   ],
   "source": [
    "import numpy\n",
    "a=numpy.arange(-2,2,0.2)\n",
    "b=numpy.linspace(-2,2,20,endpoint=False)\n",
    "print(a,b)\n",
    "numpy.allclose(a,b)"
   ]
  },
  {
   "cell_type": "markdown",
   "metadata": {},
   "source": [
    "\n",
    "\n",
    "```python\n",
    "[[ 0.  1.  2.  3. 4.] \n",
    " [-1.  0.  1.  2. 3.] \n",
    " [-1. -1.  0.  1. 2.] \n",
    " [-1. -1. -1.  0. 1.] \n",
    " [-1. -1. -1. -1. 0.]]\n",
    "```\n",
    "Hint: numpy.ones, numpy.diag\n",
    "\n",
    "* Compute the integral numerically with Trapezoidal rule\n",
    "$$\n",
    "I = \\int_{-\\infty}^\\infty e^{-v^2} dv\n",
    "$$\n",
    "with  $v \\in [-10;10]$ and n=20."
   ]
  },
  {
   "cell_type": "markdown",
   "metadata": {},
   "source": [
    "<button data-toggle=\"collapse\" data-target=\"#numpy2\" class='btn btn-primary'>Solution</button>\n",
    "<div id=\"numpy2\" class=\"collapse\">\n",
    "```python\n",
    "s = 5\n",
    "a = -np.ones((s,s)) \n",
    "for i in range(s):\n",
    "  a += np.diag((i+1)*np.ones(s-i), k=i)\n",
    "a\n",
    "# trapezoidal rule\n",
    "def trapz( f , a, b, n):\n",
    "    \"\"\" compute the integral of f in [a,b]\n",
    "    using trapezoidal rule with n partitions \"\"\"\n",
    "    x, dx = np.linspace(a, b, n, retstep=True)\n",
    "    return np.sum(0.5*(f(x[:-1])+f(x[1:])))*dx\n",
    "\n",
    "f = lambda v: np.exp(-v*v)\n",
    "\n",
    "print(trapz(f, -10, 10, 20))\n",
    "x = np.linspace(-10, 10, 20)\n",
    "np.trapz(f(x), x)  # check the result with numpy.trapz function\n",
    "```"
   ]
  },
  {
   "cell_type": "markdown",
   "metadata": {},
   "source": [
    "## Exercise: Population\n",
    "\n",
    "The data in populations.txt describes the populations of hares and lynxes (and carrots) in northern Canada during 20 years:"
   ]
  },
  {
   "cell_type": "code",
   "execution_count": 16,
   "metadata": {},
   "outputs": [
    {
     "data": {
      "image/png": "[encoded data removed]",
      "text/plain": [
       "<matplotlib.figure.Figure at 0x7fe5fb656208>"
      ]
     },
     "metadata": {},
     "output_type": "display_data"
    }
   ],
   "source": [
    "import numpy as np\n",
    "\n",
    "data = np.loadtxt('data/populations.txt')\n",
    "year, hares, lynxes, carrots = data.T  # trick: columns to variables\n",
    "\n",
    "import matplotlib.pyplot as plt\n",
    "%matplotlib inline\n",
    "plt.axes([0.2, 0.1, 0.5, 0.8]) \n",
    "\n",
    "plt.plot(year, hares, year, lynxes, year, carrots) \n",
    "\n",
    "plt.legend(('Hare', 'Lynx', 'Carrot'), loc=(1.05, 0.5));"
   ]
  },
  {
   "cell_type": "markdown",
   "metadata": {},
   "source": [
    "Computes and print, based on the data in populations.txt…\n",
    "\n",
    "1. The mean and std of the populations of each species for the years in the period.\n",
    "1. Which year each species had the largest population.\n",
    "1. Which species has the largest population for each year. (Hint: argsort & fancy indexing of np.array(['H', 'L', 'C']))\n",
    "1. Which years any of the populations is above 50000. (Hint: comparisons and np.any)\n",
    "1. The top 2 years for each species when they had the lowest populations. (Hint: argsort, fancy indexing)\n",
    "1. Compare (plot) the change in hare population (see help(np.gradient)) and the number of lynxes. Check correlation (see help(np.corrcoef)).\n",
    "\n",
    "… all without for-loops."
   ]
  },
  {
   "cell_type": "markdown",
   "metadata": {},
   "source": [
    "<button data-toggle=\"collapse\" data-target=\"#pop\" class='btn btn-primary'>Solution</button>\n",
    "\n",
    "<div id=\"pop\" class=\"collapse\">\n",
    "\n",
    "```python\n",
    "import numpy as np\n",
    "import matplotlib.pyplot as plt\n",
    "%matplotlib notebook\n",
    "\n",
    "data = np.loadtxt('data/populations.txt')\n",
    "year, hares, lynxes, carrots = data.T\n",
    "populations = data[:,1:]\n",
    "\n",
    "print(\"       Hares, Lynxes, Carrots\")\n",
    "print(\"Mean:\", populations.mean(axis=0))\n",
    "print(\"Std:\", populations.std(axis=0))\n",
    "\n",
    "j_max_years = np.argmax(populations, axis=0)\n",
    "print(\"Max. year:\", year[j_max_years])\n",
    "\n",
    "max_species = np.argmax(populations, axis=1)\n",
    "species = np.array(['Hare', 'Lynx', 'Carrot'])\n",
    "print(\"Max species:\")\n",
    "print(year)\n",
    "print(pecies[max_species])\n",
    "\n",
    "above_50000 = np.any(populations > 50000, axis=1)\n",
    "print(\"Any above 50000:\", year[above_50000])\n",
    "\n",
    "j_top_2 = np.argsort(populations, axis=0)[:2]\n",
    "print(\"Top 2 years with lowest populations for each:\")\n",
    "print(year[j_top_2])\n",
    "\n",
    "hare_grad = np.gradient(hares, 1.0)\n",
    "print(\"diff(Hares) vs. Lynxes correlation\", np.corrcoef(hare_grad, lynxes)[0,1])\n",
    "\n",
    "plt.plot(year, hare_grad, year, -lynxes)\n",
    "plt.savefig('plot.png')\n",
    "\n",
    "```"
   ]
  },
  {
   "cell_type": "code",
   "execution_count": null,
   "metadata": {
    "collapsed": true
   },
   "outputs": [],
   "source": []
  },
  {
   "cell_type": "markdown",
   "metadata": {},
   "source": [
    "## Exercise: Laplace\n",
    "- We compute numerically the Laplace Equation Solution using Finite Difference Method\n",
    "- Time this version *%%time*\n",
    "- Replace the computation of the discrete form of Laplace equation with numpy arrays\n",
    "$$\n",
    "T_{i,j} = \\frac{1}{4} ( T_{i+1,j} + T_{i-1,j} + T_{i,j+1} + T_{i,j-1})\n",
    "$$\n",
    "- The function numpy.allclose can help you to compute the residual.\n",
    "- Time the new version."
   ]
  },
  {
   "cell_type": "markdown",
   "metadata": {},
   "source": [
    "<button data-toggle=\"collapse\" data-target=\"#laplace\" class='btn btn-primary'>Solution</button>\n",
    "\n",
    "<div id=\"laplace\" class=\"collapse\">\n",
    "Replace  loop by\n",
    "```python\n",
    "for istep in itertools.count():\n",
    "    T_old = T[1:-1,1:-1]\n",
    "    T_new = (T[1:-1,2:]+T[2:,1:-1]+T[1:-1,:-2]+T[:-2,1:-1])*0.25\n",
    "    if np.allclose(T_new, T_old, rtol=1e-5): break\n",
    "    T[1:-1,1:-1] = T_new\n",
    "```\n",
    "    "
   ]
  },
  {
   "cell_type": "code",
   "execution_count": 21,
   "metadata": {},
   "outputs": [
    {
     "name": "stdout",
     "output_type": "stream",
     "text": [
      "(2457, 1.0022293826789268e-05)\n",
      "iterations =  2457\n"
     ]
    },
    {
     "data": {
      "text/plain": [
       "<matplotlib.colorbar.Colorbar at 0x7fe5fb475a20>"
      ]
     },
     "execution_count": 21,
     "metadata": {},
     "output_type": "execute_result"
    },
    {
     "data": {
      "image/png": "[encoded data removed]",
      "text/plain": [
       "<matplotlib.figure.Figure at 0x7fe5fb3a7c50>"
      ]
     },
     "metadata": {},
     "output_type": "display_data"
    }
   ],
   "source": [
    "Tnorth, Tsouth, Twest, Teast = 100, 20, 50, 50\n",
    "\n",
    "# Set meshgrid\n",
    "n, l = 64, 1.0\n",
    "X, Y = np.meshgrid(np.linspace(0,l,n), np.linspace(0,l,n))\n",
    "T = np.zeros((n,n))\n",
    "\n",
    "# Set Boundary condition\n",
    "T[n-1:, :] = Tnorth\n",
    "T[:1, :] = Tsouth\n",
    "T[:, n-1:] = Teast\n",
    "T[:, :1] = Twest\n",
    "\n",
    "residual = 1.0   \n",
    "istep = 0\n",
    "while residual > 1e-5 :\n",
    "    istep += 1\n",
    "    print ((istep, residual), end=\"\\r\")\n",
    "    residual = 0.0   \n",
    "    for i in range(1, n-1):\n",
    "        for j in range(1, n-1):\n",
    "            T_old = T[i,j]\n",
    "            T[i, j] = 0.25 * (T[i+1,j] + T[i-1,j] + T[i,j+1] + T[i,j-1])\n",
    "            if T[i,j]>0:\n",
    "                residual=max(residual,abs((T_old-T[i,j])/T[i,j]))\n",
    "\n",
    "\n",
    "print()\n",
    "print(\"iterations = \",istep)\n",
    "plt.title(\"Temperature\")\n",
    "plt.contourf(X, Y, T)\n",
    "plt.colorbar()"
   ]
  },
  {
   "cell_type": "code",
   "execution_count": null,
   "metadata": {
    "collapsed": true
   },
   "outputs": [],
   "source": []
  },
  {
   "cell_type": "markdown",
   "metadata": {},
   "source": [
    "## SymPy"
   ]
  },
  {
   "cell_type": "markdown",
   "metadata": {},
   "source": [
    "### Exercise: Lagrange polynomial\n",
    "\n",
    "Given a set of $k + 1$ data points \n",
    ":$(x_0, y_0),\\ldots,(x_j, y_j),\\ldots,(x_k, y_k)$ the Lagrange interpolation polynomial is:\n",
    "\n",
    "$$\n",
    "L(x) := \\sum_{j=0}^{k} y_j \\ell_j(x)\n",
    "$$\n",
    "$\\ell_j$ are Lagrange basis polynomials:\n",
    "$$\\ell_j(x) := \\prod_{\\begin{smallmatrix}0\\le m\\le k\\\\ m\\neq j\\end{smallmatrix}} \\frac{x-x_m}{x_j-x_m} $$\n",
    "We can demonstrate that at each point $x_i$, $L(x_i)=y_i$ so $L$ interpolates the function.\n",
    "\n",
    "- Compute the Lagrange polynomial for points \n",
    "$$\n",
    "(-2,21),(-1,1),(0,-1),(1,-3),(2,1)\n",
    "$$\n"
   ]
  },
  {
   "cell_type": "markdown",
   "metadata": {},
   "source": [
    "<button data-toggle=\"collapse\" data-target=\"#lagrange\" class='btn btn-primary'>Solution</button>\n",
    "<div id=\"lagrange\" class=\"collapse\">\n",
    "```python\n",
    "from sympy.plotting import plot\n",
    "points = [(-2,21),(-1,1),(0,-1),(1,-3),(2,1)]\n",
    "x = [ p[0] for p in points ]\n",
    "y = [ p[1] for p in points ]\n",
    "X = Symbol('x')\n",
    "k = len(x)-1\n",
    "L = 0\n",
    "for j in range(k+1):\n",
    "    l = 1\n",
    "    for m in range(k+1):\n",
    "        if (m != j ):\n",
    "            l *= (X - x[m]) / (x[j]-x[m])\n",
    "    L += y[j] * l\n",
    " \n",
    "L.expand()\n",
    "plot(L,(X,-2,2))\n",
    "```"
   ]
  },
  {
   "cell_type": "markdown",
   "metadata": {},
   "source": [
    "### Exercise\n",
    "\n",
    "- Plot the Lagrange polynomial computed above and interpolations points with matplotlib"
   ]
  },
  {
   "cell_type": "markdown",
   "metadata": {},
   "source": [
    "<button data-toggle=\"collapse\" data-target=\"#lagrange_plot\" class='btn btn-primary'>Solution</button>\n",
    "<div id=\"lagrange_plot\" class=\"collapse\">\n",
    "```python\n",
    "f = ufuncify([X], L, backend='f2py') \n",
    "\n",
    "t = np.linspace(-2,2,100)\n",
    "plt.plot(t, f(t))\n",
    "plt.scatter(*zip(*points));\n",
    "```"
   ]
  },
  {
   "cell_type": "markdown",
   "metadata": {},
   "source": [
    "Let's take the same example with demography and $n$ classes of subjects:\n",
    "\n",
    "$$\n",
    "X_i = S_i, I_i, R_i  \\qquad i = 1 \\ldots n \n",
    "$$\n",
    "\n",
    "$$\n",
    "    \\frac{dS_i}{dt} = \\nu_i - \\beta_i S_i I_i - \\mu_i S_i + \n",
    "    \\sum_{j=1}^n m_{ji} S_j-\\sum_{j=1}^n m_{ij} S_i \\\\\n",
    "    \\frac{dI_i}{dt} = \\beta_i S_i I_i - (\\gamma_i + \\mu_i) I_i +\n",
    "    \\sum_{j=1}^n m_{ij} I_j-\\sum_{j=1}^n m_{ji} I_i \\\\\n",
    "    \\frac{dR_i}{dt} = - \\frac{dS_i}{dt} - \\frac{dI_i}{dt}\n",
    "$$\n",
    "\n",
    "- $\\beta$  : transmission coefficient\n",
    "- $\\gamma$ : healing rate\n",
    "- $\\mu$    : mortality rate\n",
    "- $\\nu$    : birth rate\n",
    "       "
   ]
  },
  {
   "cell_type": "markdown",
   "metadata": {},
   "source": [
    "### Exercise \n",
    "\n",
    "- Create the symbolic matrix $m$, symbols $\\nu_i,\\mu_i,\\beta_i,\\gamma_i$ for $i=0,1,2$ and $y_j$ for\n",
    "$j=0,1,2,\\ldots,8$\n",
    "- Write the system $\\dot{y} = f(t,y,m,\\nu,\\mu,\\beta,\\gamma)$\n",
    "- `lambdify` the $f$ function.\n",
    "- Solve the system with:\n",
    "$$\n",
    "m = \\begin{bmatrix} \n",
    "0 & 0.01 & 0.01 \\\\\n",
    "0.01 & 0 & 0.01 \\\\\n",
    "0.01 & 0.01 & 0 \\\\\n",
    "\\end{bmatrix}\n",
    "$$\n",
    "$$\n",
    "\\begin{aligned}\n",
    "t &= [0,10] \\mbox{ with } dt = 0.1 \\\\\n",
    "\\nu_i &= 0.0 \\\\\n",
    "\\mu_i &= 0.0 \\\\\n",
    "\\beta_i &= 1.66 \\\\\n",
    "\\gamma_i &= [0.4545,0.3545,0.2545] \\\\\n",
    "S_i&= 0.95 \\\\\n",
    "I_i &= 0.05 \\\\\n",
    "R_i &= 0.0 \n",
    "\\end{aligned}\n",
    "$$\n"
   ]
  },
  {
   "cell_type": "markdown",
   "metadata": {},
   "source": [
    "<button data-toggle=\"collapse\" data-target=\"#symbols\" class='btn btn-primary'>Solution - Create the variables</button>\n",
    "<div id=\"symbols\" class=\"collapse\">\n",
    "```python\n",
    "from sympy import symbols, Matrix\n",
    "n = 3\n",
    "m = Matrix(n*n*[0.01]).reshape(n,n) - Matrix.diag(n*[0.01])\n",
    "y = symbols('y:{}'.format(3*n), real=True, nonnegative=True )\n",
    "nu = symbols('nu:{}'.format(n), real=True, nonnegative=True)\n",
    "mu = symbols('mu:{}'.format(n), real=True, nonnegative=True)\n",
    "beta = symbols('beta:{}'.format(n), real=True, nonnegative=True)\n",
    "gamma = symbols('gamma:{}'.format(n), real=True, nonnegative=True)\n",
    "```"
   ]
  },
  {
   "cell_type": "markdown",
   "metadata": {},
   "source": [
    "<button data-toggle=\"collapse\" data-target=\"#system\" class='btn btn-primary'>Solution - Set the system</button>\n",
    "<div id=\"system\" class=\"collapse\">\n",
    "```python\n",
    "ydot = [nu[k] - beta[k]*y[k]*y[k+n] - mu[k]*y[k] #dS/dt\n",
    "        + sum(Matrix(y[:n]).T * m) \n",
    "        - sum(m @ Matrix(y[:n])) for k in range(n)]\n",
    "\n",
    "ydot += [beta[k] * y[k+n] * y[k]- (gamma[k] + mu[k])*y[k+n]  #dI/dt\n",
    "        + sum( m @ Matrix(y[n:2*n])) \n",
    "        - sum(Matrix(y[n:2*n]).T @ m ) for k in range(n)]\n",
    "\n",
    "ydot += [ - nu[k] + gamma[k]*y[k+n] for k in range(n)] #dR/dt\n",
    "\n",
    "ydot\n",
    "```"
   ]
  },
  {
   "cell_type": "markdown",
   "metadata": {},
   "source": [
    "<button data-toggle=\"collapse\" data-target=\"#lambdify\" class='btn btn-primary'>Solution - Lambdify</button>\n",
    "<div id=\"lambdify\" class=\"collapse\">\n",
    "```python\n",
    "from sympy import lambdify\n",
    "f = lambdify((y,t)+nu+mu+beta+gamma, ydot)\n",
    "```"
   ]
  },
  {
   "cell_type": "markdown",
   "metadata": {},
   "source": [
    "<button data-toggle=\"collapse\" data-target=\"#solve\" class='btn btn-primary'>Solution - Solve ODE system</button>\n",
    "<div id=\"solve\" class=\"collapse\">\n",
    "```python\n",
    "tout = np.linspace(0, 10, 100)\n",
    "nu = n*[0.0]\n",
    "mu = n*[0.0]\n",
    "beta = [1.66 for i in range(n)]\n",
    "gamma = [0.4545-0.1*i for i in range(n)]\n",
    "k_vals = (*nu, *mu, *beta, *gamma)\n",
    "y0 = n*[0.95]+n*[0.05]+n*[0]\n",
    "legends = ['$S_{}$'.format(i) for i in range(n)]\n",
    "legends += ['$I_{}$'.format(i) for i in range(n)]\n",
    "legends += ['$R_{}$'.format(i) for i in range(n)]\n",
    "plt.plot(tout, spi.odeint(f, y0, tout, k_vals))\n",
    "plt.legend(legends)\n",
    "```"
   ]
  },
  {
   "cell_type": "markdown",
   "metadata": {},
   "source": [
    "### Exercise : Bezier curve\n",
    "\n",
    "We want to compute and the draw the Bezier curve between the 3 points $p_0$, $p_1$, and $p_2$,\n",
    "The middle point $p_1$ position is arbitrary.\n",
    "\n",
    "$$\n",
    "p0=(1,0); \\qquad\n",
    "p1=(x,y); \\qquad\n",
    "p2=(0,1)\n",
    "$$\n",
    "\n",
    "\n",
    "The $n+1$ Bernstein basis polynomials of degree $n$ are defined as\n",
    "\n",
    "$$\n",
    "b_{i,n}(x) = {n \\choose i} x^{i} \\left( 1 - x \\right)^{n - i}, \\quad i = 0, \\ldots, n.\n",
    "$$\n",
    "\n",
    "where ${n \\choose i}$ is the binomial coefficient.\n",
    "\n",
    "The Bezier curve is defined by a linear combination of Bernstein basis polynomials:\n",
    "\n",
    "$$B_n(x) = \\sum_{i=0}^{n} \\beta_{i} b_{i,n}(x)$$\n",
    "\n",
    "- With`sympy.binomial`, write a function `bpoly(t,n,i)` that returns the Bernstein basis polynomial $b_{i,n}(t)$.\n",
    "- Compute the Berstein polynomial representing the Bezier curve between $p_0,p_1,p_2$. $\\beta_i=1$.\n",
    "- Plot the Bezier Curve for 3 positions of $p_1= (0,0), (0.5,0.5), (1,1)$ \n"
   ]
  },
  {
   "cell_type": "markdown",
   "metadata": {},
   "source": [
    "<button data-toggle=\"collapse\" data-target=\"#bpoly\" class='btn btn-primary'>Solution</button>\n",
    "<div id=\"bpoly\" class=\"collapse\">\n",
    "```python\n",
    "from sympy import binomial\n",
    "from sympy import Matrix, Symbol\n",
    "from sympy import lambdify\n",
    "\n",
    "def Bpoly(t,n,i):\n",
    "    return binomial(n,i)*t**i*(1-t)**(n-i)\n",
    "\n",
    "t = Symbol('t')\n",
    "x = Symbol('x')\n",
    "y = Symbol('y')\n",
    "\n",
    "p0 = Matrix([1,0])\n",
    "p1 = Matrix([x,y])\n",
    "p2 = Matrix([0,1])\n",
    "\n",
    "bezier = Bpoly(t,2,0)*p0+Bpoly(t,2,1)*p1+Bpoly(t,2,2)*p2\n",
    "\n",
    "p = (bezier[0], bezier[1])  # we remove the Matrix type\n",
    "f = lambdify((t,x,y), p)\n",
    "\n",
    "t = np.linspace(0,1,100)\n",
    "for px, py in [(0,0),(0.5,0.5),(1,1)]:\n",
    "    u,v = f(t,px,py)\n",
    "    plt.plot(u,v,'-',px,py,'o')\n",
    "    \n",
    "# bonus interact point(x,y) with sliders\n",
    "from ipywidgets import interact\n",
    "\n",
    "@interact(x=(0,1.0),y=(0,1.0))\n",
    "def bezier(x, y):\n",
    "    u, v = f(t,x,y)\n",
    "    plt.plot(u, v, x, y, 'o')\n",
    "```"
   ]
  },
  {
   "cell_type": "code",
   "execution_count": null,
   "metadata": {
    "collapsed": true
   },
   "outputs": [],
   "source": []
  }
 ],
 "metadata": {
  "kernelspec": {
   "display_name": "Python 3",
   "language": "python",
   "name": "python3"
  },
  "language_info": {
   "codemirror_mode": {
    "name": "ipython",
    "version": 3
   },
   "file_extension": ".py",
   "mimetype": "text/x-python",
   "name": "python",
   "nbconvert_exporter": "python",
   "pygments_lexer": "ipython3",
   "version": "3.6.2"
  }
 },
 "nbformat": 4,
 "nbformat_minor": 1
}
